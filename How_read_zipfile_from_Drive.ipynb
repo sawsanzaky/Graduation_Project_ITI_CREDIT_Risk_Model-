{
  "nbformat": 4,
  "nbformat_minor": 0,
  "metadata": {
    "colab": {
      "name": "How_read_zipfile_from_Drive.ipynb",
      "provenance": [],
      "authorship_tag": "ABX9TyPCwYf32WxzdGC11fzfRffl",
      "include_colab_link": true
    },
    "kernelspec": {
      "name": "python3",
      "display_name": "Python 3"
    },
    "language_info": {
      "name": "python"
    }
  },
  "cells": [
    {
      "cell_type": "markdown",
      "metadata": {
        "id": "view-in-github",
        "colab_type": "text"
      },
      "source": [
        "<a href=\"https://colab.research.google.com/github/sawsanzaky/Graduation_Project_ITI_CREDIT_Risk_Model-/blob/main/How_read_zipfile_from_Drive.ipynb\" target=\"_parent\"><img src=\"https://colab.research.google.com/assets/colab-badge.svg\" alt=\"Open In Colab\"/></a>"
      ]
    },
    {
      "cell_type": "code",
      "source": [
        "import zipfile\n"
      ],
      "metadata": {
        "id": "eb1Y-1iXbp5q"
      },
      "execution_count": null,
      "outputs": []
    },
    {
      "cell_type": "code",
      "execution_count": null,
      "metadata": {
        "id": "oLKAiwrybfpA"
      },
      "outputs": [],
      "source": [
        "from google.colab import drive\n",
        "drive.mount('/content/drive')"
      ]
    },
    {
      "cell_type": "code",
      "source": [
        "loan_data_backup = pd.read_csv('/content/drive/MyDrive/Loan data 2007-2014.zip',compression='zip')"
      ],
      "metadata": {
        "id": "iRzDO4IGbo6x"
      },
      "execution_count": null,
      "outputs": []
    }
  ]
}