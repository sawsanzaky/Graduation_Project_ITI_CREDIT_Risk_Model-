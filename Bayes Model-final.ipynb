{
 "cells": [
  {
   "cell_type": "markdown",
   "id": "5aa152f9",
   "metadata": {},
   "source": [
    "### Importing relevant packages"
   ]
  },
  {
   "cell_type": "code",
   "execution_count": 3,
   "id": "d16b24c2",
   "metadata": {},
   "outputs": [],
   "source": [
    "import numpy as np\n",
    "import pandas as pd\n",
    "import pomegranate\n",
    "from pomegranate import *\n",
    "import matplotlib.pyplot as plt\n",
    "import pickle\n",
    "import joblib\n",
    "import warnings\n",
    "warnings.filterwarnings('ignore')"
   ]
  },
  {
   "cell_type": "markdown",
   "id": "6b92b50d",
   "metadata": {},
   "source": [
    "### Loading our data"
   ]
  },
  {
   "cell_type": "code",
   "execution_count": 8,
   "id": "0d7ea342",
   "metadata": {},
   "outputs": [
    {
     "data": {
      "text/html": [
       "<div>\n",
       "<style scoped>\n",
       "    .dataframe tbody tr th:only-of-type {\n",
       "        vertical-align: middle;\n",
       "    }\n",
       "\n",
       "    .dataframe tbody tr th {\n",
       "        vertical-align: top;\n",
       "    }\n",
       "\n",
       "    .dataframe thead th {\n",
       "        text-align: right;\n",
       "    }\n",
       "</style>\n",
       "<table border=\"1\" class=\"dataframe\">\n",
       "  <thead>\n",
       "    <tr style=\"text-align: right;\">\n",
       "      <th></th>\n",
       "      <th>grade</th>\n",
       "      <th>sub_grade</th>\n",
       "      <th>home_ownership</th>\n",
       "      <th>verification_status</th>\n",
       "      <th>purpose</th>\n",
       "      <th>addr_state</th>\n",
       "      <th>initial_list_status</th>\n",
       "      <th>good_bad</th>\n",
       "      <th>term</th>\n",
       "      <th>emp_length_int</th>\n",
       "      <th>mths_since_issue_d</th>\n",
       "      <th>int_rate</th>\n",
       "      <th>annual_inc</th>\n",
       "      <th>mths_since_last_delinq</th>\n",
       "    </tr>\n",
       "  </thead>\n",
       "  <tbody>\n",
       "    <tr>\n",
       "      <th>0</th>\n",
       "      <td>B</td>\n",
       "      <td>B2</td>\n",
       "      <td>RENT</td>\n",
       "      <td>Verified</td>\n",
       "      <td>credit_card</td>\n",
       "      <td>AZ</td>\n",
       "      <td>f</td>\n",
       "      <td>good</td>\n",
       "      <td>3 years</td>\n",
       "      <td>7</td>\n",
       "      <td>85</td>\n",
       "      <td>fair</td>\n",
       "      <td>30k</td>\n",
       "      <td>unknown</td>\n",
       "    </tr>\n",
       "    <tr>\n",
       "      <th>1</th>\n",
       "      <td>C</td>\n",
       "      <td>C4</td>\n",
       "      <td>RENT</td>\n",
       "      <td>Source Verified</td>\n",
       "      <td>car</td>\n",
       "      <td>GA</td>\n",
       "      <td>f</td>\n",
       "      <td>bad</td>\n",
       "      <td>5 years</td>\n",
       "      <td>1</td>\n",
       "      <td>85</td>\n",
       "      <td>modrate</td>\n",
       "      <td>30k</td>\n",
       "      <td>unknown</td>\n",
       "    </tr>\n",
       "    <tr>\n",
       "      <th>2</th>\n",
       "      <td>C</td>\n",
       "      <td>C5</td>\n",
       "      <td>RENT</td>\n",
       "      <td>Not Verified</td>\n",
       "      <td>small_business</td>\n",
       "      <td>IL</td>\n",
       "      <td>f</td>\n",
       "      <td>good</td>\n",
       "      <td>3 years</td>\n",
       "      <td>7</td>\n",
       "      <td>85</td>\n",
       "      <td>high</td>\n",
       "      <td>20k</td>\n",
       "      <td>unknown</td>\n",
       "    </tr>\n",
       "    <tr>\n",
       "      <th>3</th>\n",
       "      <td>C</td>\n",
       "      <td>C1</td>\n",
       "      <td>RENT</td>\n",
       "      <td>Source Verified</td>\n",
       "      <td>other</td>\n",
       "      <td>CA</td>\n",
       "      <td>f</td>\n",
       "      <td>good</td>\n",
       "      <td>3 years</td>\n",
       "      <td>7</td>\n",
       "      <td>85</td>\n",
       "      <td>modrate</td>\n",
       "      <td>50k</td>\n",
       "      <td>less than 56</td>\n",
       "    </tr>\n",
       "    <tr>\n",
       "      <th>4</th>\n",
       "      <td>B</td>\n",
       "      <td>B5</td>\n",
       "      <td>RENT</td>\n",
       "      <td>Source Verified</td>\n",
       "      <td>other</td>\n",
       "      <td>OR</td>\n",
       "      <td>f</td>\n",
       "      <td>good</td>\n",
       "      <td>5 years</td>\n",
       "      <td>1</td>\n",
       "      <td>85</td>\n",
       "      <td>modrate</td>\n",
       "      <td>80k</td>\n",
       "      <td>less than 56</td>\n",
       "    </tr>\n",
       "    <tr>\n",
       "      <th>...</th>\n",
       "      <td>...</td>\n",
       "      <td>...</td>\n",
       "      <td>...</td>\n",
       "      <td>...</td>\n",
       "      <td>...</td>\n",
       "      <td>...</td>\n",
       "      <td>...</td>\n",
       "      <td>...</td>\n",
       "      <td>...</td>\n",
       "      <td>...</td>\n",
       "      <td>...</td>\n",
       "      <td>...</td>\n",
       "      <td>...</td>\n",
       "      <td>...</td>\n",
       "    </tr>\n",
       "    <tr>\n",
       "      <th>466047</th>\n",
       "      <td>C</td>\n",
       "      <td>C2</td>\n",
       "      <td>MORTGAGE</td>\n",
       "      <td>Source Verified</td>\n",
       "      <td>debt_consolidation</td>\n",
       "      <td>TX</td>\n",
       "      <td>w</td>\n",
       "      <td>good</td>\n",
       "      <td>5 years</td>\n",
       "      <td>3</td>\n",
       "      <td>49</td>\n",
       "      <td>modrate</td>\n",
       "      <td>120k</td>\n",
       "      <td>unknown</td>\n",
       "    </tr>\n",
       "    <tr>\n",
       "      <th>466048</th>\n",
       "      <td>D</td>\n",
       "      <td>D5</td>\n",
       "      <td>MORTGAGE</td>\n",
       "      <td>Verified</td>\n",
       "      <td>debt_consolidation</td>\n",
       "      <td>TN</td>\n",
       "      <td>f</td>\n",
       "      <td>bad</td>\n",
       "      <td>5 years</td>\n",
       "      <td>7</td>\n",
       "      <td>49</td>\n",
       "      <td>high</td>\n",
       "      <td>80k</td>\n",
       "      <td>unknown</td>\n",
       "    </tr>\n",
       "    <tr>\n",
       "      <th>466049</th>\n",
       "      <td>D</td>\n",
       "      <td>D1</td>\n",
       "      <td>MORTGAGE</td>\n",
       "      <td>Verified</td>\n",
       "      <td>debt_consolidation</td>\n",
       "      <td>OH</td>\n",
       "      <td>f</td>\n",
       "      <td>good</td>\n",
       "      <td>5 years</td>\n",
       "      <td>5</td>\n",
       "      <td>49</td>\n",
       "      <td>high</td>\n",
       "      <td>50k</td>\n",
       "      <td>+56</td>\n",
       "    </tr>\n",
       "    <tr>\n",
       "      <th>466050</th>\n",
       "      <td>A</td>\n",
       "      <td>A4</td>\n",
       "      <td>OWN</td>\n",
       "      <td>Verified</td>\n",
       "      <td>credit_card</td>\n",
       "      <td>CA</td>\n",
       "      <td>w</td>\n",
       "      <td>good</td>\n",
       "      <td>3 years</td>\n",
       "      <td>1</td>\n",
       "      <td>49</td>\n",
       "      <td>low</td>\n",
       "      <td>90k</td>\n",
       "      <td>less than 30</td>\n",
       "    </tr>\n",
       "    <tr>\n",
       "      <th>466051</th>\n",
       "      <td>D</td>\n",
       "      <td>D3</td>\n",
       "      <td>MORTGAGE</td>\n",
       "      <td>Verified</td>\n",
       "      <td>other</td>\n",
       "      <td>CA</td>\n",
       "      <td>f</td>\n",
       "      <td>good</td>\n",
       "      <td>3 years</td>\n",
       "      <td>7</td>\n",
       "      <td>49</td>\n",
       "      <td>high</td>\n",
       "      <td>50k</td>\n",
       "      <td>less than 30</td>\n",
       "    </tr>\n",
       "  </tbody>\n",
       "</table>\n",
       "<p>466052 rows × 14 columns</p>\n",
       "</div>"
      ],
      "text/plain": [
       "       grade sub_grade home_ownership verification_status             purpose  \\\n",
       "0          B        B2           RENT            Verified         credit_card   \n",
       "1          C        C4           RENT     Source Verified                 car   \n",
       "2          C        C5           RENT        Not Verified      small_business   \n",
       "3          C        C1           RENT     Source Verified               other   \n",
       "4          B        B5           RENT     Source Verified               other   \n",
       "...      ...       ...            ...                 ...                 ...   \n",
       "466047     C        C2       MORTGAGE     Source Verified  debt_consolidation   \n",
       "466048     D        D5       MORTGAGE            Verified  debt_consolidation   \n",
       "466049     D        D1       MORTGAGE            Verified  debt_consolidation   \n",
       "466050     A        A4            OWN            Verified         credit_card   \n",
       "466051     D        D3       MORTGAGE            Verified               other   \n",
       "\n",
       "       addr_state initial_list_status good_bad      term  emp_length_int  \\\n",
       "0              AZ                   f     good   3 years               7   \n",
       "1              GA                   f      bad   5 years               1   \n",
       "2              IL                   f     good   3 years               7   \n",
       "3              CA                   f     good   3 years               7   \n",
       "4              OR                   f     good   5 years               1   \n",
       "...           ...                 ...      ...       ...             ...   \n",
       "466047         TX                   w     good   5 years               3   \n",
       "466048         TN                   f      bad   5 years               7   \n",
       "466049         OH                   f     good   5 years               5   \n",
       "466050         CA                   w     good   3 years               1   \n",
       "466051         CA                   f     good   3 years               7   \n",
       "\n",
       "        mths_since_issue_d int_rate annual_inc mths_since_last_delinq  \n",
       "0                       85     fair        30k                unknown  \n",
       "1                       85  modrate        30k                unknown  \n",
       "2                       85     high        20k                unknown  \n",
       "3                       85  modrate        50k           less than 56  \n",
       "4                       85  modrate        80k           less than 56  \n",
       "...                    ...      ...        ...                    ...  \n",
       "466047                  49  modrate       120k                unknown  \n",
       "466048                  49     high        80k                unknown  \n",
       "466049                  49     high        50k                    +56  \n",
       "466050                  49      low        90k           less than 30  \n",
       "466051                  49     high        50k           less than 30  \n",
       "\n",
       "[466052 rows x 14 columns]"
      ]
     },
     "execution_count": 8,
     "metadata": {},
     "output_type": "execute_result"
    }
   ],
   "source": [
    "df = pd.read_csv('clean_data.csv')\n",
    "df"
   ]
  },
  {
   "cell_type": "code",
   "execution_count": 9,
   "id": "07c4f535",
   "metadata": {
    "scrolled": true
   },
   "outputs": [
    {
     "data": {
      "text/html": [
       "<div>\n",
       "<style scoped>\n",
       "    .dataframe tbody tr th:only-of-type {\n",
       "        vertical-align: middle;\n",
       "    }\n",
       "\n",
       "    .dataframe tbody tr th {\n",
       "        vertical-align: top;\n",
       "    }\n",
       "\n",
       "    .dataframe thead th {\n",
       "        text-align: right;\n",
       "    }\n",
       "</style>\n",
       "<table border=\"1\" class=\"dataframe\">\n",
       "  <thead>\n",
       "    <tr style=\"text-align: right;\">\n",
       "      <th></th>\n",
       "      <th>grade</th>\n",
       "      <th>home_ownership</th>\n",
       "      <th>verification_status</th>\n",
       "      <th>purpose</th>\n",
       "      <th>initial_list_status</th>\n",
       "      <th>good_bad</th>\n",
       "      <th>term</th>\n",
       "      <th>emp_length_int</th>\n",
       "      <th>mths_since_issue_d</th>\n",
       "      <th>int_rate</th>\n",
       "      <th>annual_inc</th>\n",
       "      <th>mths_since_last_delinq</th>\n",
       "    </tr>\n",
       "  </thead>\n",
       "  <tbody>\n",
       "    <tr>\n",
       "      <th>0</th>\n",
       "      <td>B</td>\n",
       "      <td>RENT</td>\n",
       "      <td>Verified</td>\n",
       "      <td>credit_card</td>\n",
       "      <td>f</td>\n",
       "      <td>good</td>\n",
       "      <td>3 years</td>\n",
       "      <td>7</td>\n",
       "      <td>85</td>\n",
       "      <td>fair</td>\n",
       "      <td>30k</td>\n",
       "      <td>unknown</td>\n",
       "    </tr>\n",
       "    <tr>\n",
       "      <th>1</th>\n",
       "      <td>C</td>\n",
       "      <td>RENT</td>\n",
       "      <td>Source Verified</td>\n",
       "      <td>car</td>\n",
       "      <td>f</td>\n",
       "      <td>bad</td>\n",
       "      <td>5 years</td>\n",
       "      <td>1</td>\n",
       "      <td>85</td>\n",
       "      <td>modrate</td>\n",
       "      <td>30k</td>\n",
       "      <td>unknown</td>\n",
       "    </tr>\n",
       "    <tr>\n",
       "      <th>2</th>\n",
       "      <td>C</td>\n",
       "      <td>RENT</td>\n",
       "      <td>Not Verified</td>\n",
       "      <td>small_business</td>\n",
       "      <td>f</td>\n",
       "      <td>good</td>\n",
       "      <td>3 years</td>\n",
       "      <td>7</td>\n",
       "      <td>85</td>\n",
       "      <td>high</td>\n",
       "      <td>20k</td>\n",
       "      <td>unknown</td>\n",
       "    </tr>\n",
       "    <tr>\n",
       "      <th>3</th>\n",
       "      <td>C</td>\n",
       "      <td>RENT</td>\n",
       "      <td>Source Verified</td>\n",
       "      <td>other</td>\n",
       "      <td>f</td>\n",
       "      <td>good</td>\n",
       "      <td>3 years</td>\n",
       "      <td>7</td>\n",
       "      <td>85</td>\n",
       "      <td>modrate</td>\n",
       "      <td>50k</td>\n",
       "      <td>less than 56</td>\n",
       "    </tr>\n",
       "    <tr>\n",
       "      <th>4</th>\n",
       "      <td>B</td>\n",
       "      <td>RENT</td>\n",
       "      <td>Source Verified</td>\n",
       "      <td>other</td>\n",
       "      <td>f</td>\n",
       "      <td>good</td>\n",
       "      <td>5 years</td>\n",
       "      <td>1</td>\n",
       "      <td>85</td>\n",
       "      <td>modrate</td>\n",
       "      <td>80k</td>\n",
       "      <td>less than 56</td>\n",
       "    </tr>\n",
       "    <tr>\n",
       "      <th>...</th>\n",
       "      <td>...</td>\n",
       "      <td>...</td>\n",
       "      <td>...</td>\n",
       "      <td>...</td>\n",
       "      <td>...</td>\n",
       "      <td>...</td>\n",
       "      <td>...</td>\n",
       "      <td>...</td>\n",
       "      <td>...</td>\n",
       "      <td>...</td>\n",
       "      <td>...</td>\n",
       "      <td>...</td>\n",
       "    </tr>\n",
       "    <tr>\n",
       "      <th>466047</th>\n",
       "      <td>C</td>\n",
       "      <td>MORTGAGE</td>\n",
       "      <td>Source Verified</td>\n",
       "      <td>debt_consolidation</td>\n",
       "      <td>w</td>\n",
       "      <td>good</td>\n",
       "      <td>5 years</td>\n",
       "      <td>3</td>\n",
       "      <td>49</td>\n",
       "      <td>modrate</td>\n",
       "      <td>120k</td>\n",
       "      <td>unknown</td>\n",
       "    </tr>\n",
       "    <tr>\n",
       "      <th>466048</th>\n",
       "      <td>D</td>\n",
       "      <td>MORTGAGE</td>\n",
       "      <td>Verified</td>\n",
       "      <td>debt_consolidation</td>\n",
       "      <td>f</td>\n",
       "      <td>bad</td>\n",
       "      <td>5 years</td>\n",
       "      <td>7</td>\n",
       "      <td>49</td>\n",
       "      <td>high</td>\n",
       "      <td>80k</td>\n",
       "      <td>unknown</td>\n",
       "    </tr>\n",
       "    <tr>\n",
       "      <th>466049</th>\n",
       "      <td>D</td>\n",
       "      <td>MORTGAGE</td>\n",
       "      <td>Verified</td>\n",
       "      <td>debt_consolidation</td>\n",
       "      <td>f</td>\n",
       "      <td>good</td>\n",
       "      <td>5 years</td>\n",
       "      <td>5</td>\n",
       "      <td>49</td>\n",
       "      <td>high</td>\n",
       "      <td>50k</td>\n",
       "      <td>+56</td>\n",
       "    </tr>\n",
       "    <tr>\n",
       "      <th>466050</th>\n",
       "      <td>A</td>\n",
       "      <td>OWN</td>\n",
       "      <td>Verified</td>\n",
       "      <td>credit_card</td>\n",
       "      <td>w</td>\n",
       "      <td>good</td>\n",
       "      <td>3 years</td>\n",
       "      <td>1</td>\n",
       "      <td>49</td>\n",
       "      <td>low</td>\n",
       "      <td>90k</td>\n",
       "      <td>less than 30</td>\n",
       "    </tr>\n",
       "    <tr>\n",
       "      <th>466051</th>\n",
       "      <td>D</td>\n",
       "      <td>MORTGAGE</td>\n",
       "      <td>Verified</td>\n",
       "      <td>other</td>\n",
       "      <td>f</td>\n",
       "      <td>good</td>\n",
       "      <td>3 years</td>\n",
       "      <td>7</td>\n",
       "      <td>49</td>\n",
       "      <td>high</td>\n",
       "      <td>50k</td>\n",
       "      <td>less than 30</td>\n",
       "    </tr>\n",
       "  </tbody>\n",
       "</table>\n",
       "<p>466052 rows × 12 columns</p>\n",
       "</div>"
      ],
      "text/plain": [
       "       grade home_ownership verification_status             purpose  \\\n",
       "0          B           RENT            Verified         credit_card   \n",
       "1          C           RENT     Source Verified                 car   \n",
       "2          C           RENT        Not Verified      small_business   \n",
       "3          C           RENT     Source Verified               other   \n",
       "4          B           RENT     Source Verified               other   \n",
       "...      ...            ...                 ...                 ...   \n",
       "466047     C       MORTGAGE     Source Verified  debt_consolidation   \n",
       "466048     D       MORTGAGE            Verified  debt_consolidation   \n",
       "466049     D       MORTGAGE            Verified  debt_consolidation   \n",
       "466050     A            OWN            Verified         credit_card   \n",
       "466051     D       MORTGAGE            Verified               other   \n",
       "\n",
       "       initial_list_status good_bad      term  emp_length_int  \\\n",
       "0                        f     good   3 years               7   \n",
       "1                        f      bad   5 years               1   \n",
       "2                        f     good   3 years               7   \n",
       "3                        f     good   3 years               7   \n",
       "4                        f     good   5 years               1   \n",
       "...                    ...      ...       ...             ...   \n",
       "466047                   w     good   5 years               3   \n",
       "466048                   f      bad   5 years               7   \n",
       "466049                   f     good   5 years               5   \n",
       "466050                   w     good   3 years               1   \n",
       "466051                   f     good   3 years               7   \n",
       "\n",
       "        mths_since_issue_d int_rate annual_inc mths_since_last_delinq  \n",
       "0                       85     fair        30k                unknown  \n",
       "1                       85  modrate        30k                unknown  \n",
       "2                       85     high        20k                unknown  \n",
       "3                       85  modrate        50k           less than 56  \n",
       "4                       85  modrate        80k           less than 56  \n",
       "...                    ...      ...        ...                    ...  \n",
       "466047                  49  modrate       120k                unknown  \n",
       "466048                  49     high        80k                unknown  \n",
       "466049                  49     high        50k                    +56  \n",
       "466050                  49      low        90k           less than 30  \n",
       "466051                  49     high        50k           less than 30  \n",
       "\n",
       "[466052 rows x 12 columns]"
      ]
     },
     "execution_count": 9,
     "metadata": {},
     "output_type": "execute_result"
    }
   ],
   "source": [
    "df.drop(['sub_grade','addr_state'],axis=1,inplace=True)\n",
    "df"
   ]
  },
  {
   "cell_type": "code",
   "execution_count": 10,
   "id": "699b3bca",
   "metadata": {},
   "outputs": [],
   "source": [
    "df['emp_length_int']=df['emp_length_int'].astype(np.str)\n",
    "df['mths_since_issue_d']= df['mths_since_issue_d'].astype(np.str)"
   ]
  },
  {
   "cell_type": "code",
   "execution_count": 11,
   "id": "9df2c239",
   "metadata": {},
   "outputs": [
    {
     "name": "stdout",
     "output_type": "stream",
     "text": [
      "<class 'pandas.core.frame.DataFrame'>\n",
      "RangeIndex: 466052 entries, 0 to 466051\n",
      "Data columns (total 12 columns):\n",
      " #   Column                  Non-Null Count   Dtype \n",
      "---  ------                  --------------   ----- \n",
      " 0   grade                   466052 non-null  object\n",
      " 1   home_ownership          466052 non-null  object\n",
      " 2   verification_status     466052 non-null  object\n",
      " 3   purpose                 466052 non-null  object\n",
      " 4   initial_list_status     466052 non-null  object\n",
      " 5   good_bad                466052 non-null  object\n",
      " 6   term                    466052 non-null  object\n",
      " 7   emp_length_int          466052 non-null  object\n",
      " 8   mths_since_issue_d      466052 non-null  object\n",
      " 9   int_rate                466052 non-null  object\n",
      " 10  annual_inc              466052 non-null  object\n",
      " 11  mths_since_last_delinq  466052 non-null  object\n",
      "dtypes: object(12)\n",
      "memory usage: 42.7+ MB\n"
     ]
    }
   ],
   "source": [
    "df.info()"
   ]
  },
  {
   "cell_type": "code",
   "execution_count": 13,
   "id": "29ceed71",
   "metadata": {},
   "outputs": [
    {
     "data": {
      "text/plain": [
       "Index(['grade', 'home_ownership', 'verification_status', 'purpose',\n",
       "       'initial_list_status', 'good_bad', 'term', 'emp_length_int',\n",
       "       'mths_since_issue_d', 'int_rate', 'annual_inc',\n",
       "       'mths_since_last_delinq'],\n",
       "      dtype='object')"
      ]
     },
     "execution_count": 13,
     "metadata": {},
     "output_type": "execute_result"
    }
   ],
   "source": [
    "df.columns"
   ]
  },
  {
   "cell_type": "code",
   "execution_count": 14,
   "id": "4df94d13",
   "metadata": {},
   "outputs": [],
   "source": [
    "df.to_csv('bayes_demo.csv',index=False)"
   ]
  },
  {
   "cell_type": "code",
   "execution_count": 17,
   "id": "34e8bb41",
   "metadata": {},
   "outputs": [
    {
     "data": {
      "text/plain": [
       "7    190261\n",
       "1    164751\n",
       "3     58770\n",
       "5     52270\n",
       "Name: emp_length_int, dtype: int64"
      ]
     },
     "execution_count": 17,
     "metadata": {},
     "output_type": "execute_result"
    }
   ],
   "source": [
    "df['emp_length_int'].value_counts()"
   ]
  },
  {
   "cell_type": "markdown",
   "id": "f51c9d19",
   "metadata": {},
   "source": [
    "### Automating the pipeline"
   ]
  },
  {
   "cell_type": "markdown",
   "id": "75ea9604",
   "metadata": {},
   "source": [
    "#### Getting conditional probability distribution"
   ]
  },
  {
   "cell_type": "code",
   "execution_count": 7,
   "id": "18456d8b",
   "metadata": {},
   "outputs": [],
   "source": [
    "def get_conditional_prob_distribution(df,child,parents):\n",
    "    \n",
    "    parent_list = [df[i] for i in parents]\n",
    "    \n",
    "    df1= pd.crosstab(df[child[0]],parent_list).apply(lambda r: r/r.sum(), axis=0)\n",
    "    \n",
    "    c=pd.crosstab(df[child[0]],parent_list).apply(lambda r: r/r.sum(), axis=0).columns.values\n",
    "\n",
    "    r=pd.crosstab(df[child[0]],parent_list).apply(lambda r: r/r.sum(), axis=0).index.values\n",
    "    \n",
    "    A=[]\n",
    "    for i in range(df1.shape[0]):\n",
    "        for j in range(df1.shape[1]):\n",
    "            w=[]\n",
    "\n",
    "            \n",
    "            if type(c[j])==str:\n",
    "                w.append(c[j])\n",
    "            else:\n",
    "                w= [u  for u in (c[j])]\n",
    "            w.append(r[i])\n",
    "            w.append(df1.iloc[i,j])\n",
    "            A.append(w)\n",
    "            \n",
    "            \n",
    "        \n",
    "    return A\n"
   ]
  },
  {
   "cell_type": "code",
   "execution_count": 8,
   "id": "db49d4b0",
   "metadata": {},
   "outputs": [
    {
     "data": {
      "text/plain": [
       "[['+140k', 'car', ' 3 years', 0.7620967741935484],\n",
       " ['+140k', 'credit_card', ' 3 years', 0.7482856664994146],\n",
       " ['+140k', 'debt_consolidation', ' 3 years', 0.6661630382528673],\n",
       " ['+140k', 'educational', ' 3 years', 1.0],\n",
       " ['+140k', 'home_improvement', ' 3 years', 0.6591136287904032],\n",
       " ['+140k', 'house', ' 3 years', 0.6548223350253807],\n",
       " ['+140k', 'major_purchase', ' 3 years', 0.719640179910045],\n",
       " ['+140k', 'medical', ' 3 years', 0.7674418604651163],\n",
       " ['+140k', 'moving', ' 3 years', 0.7633136094674556],\n",
       " ['+140k', 'other', ' 3 years', 0.7122247532270312],\n",
       " ['+140k', 'renewable_energy', ' 3 years', 0.76],\n",
       " ['+140k', 'small_business', ' 3 years', 0.720677146311971],\n",
       " ['+140k', 'vacation', ' 3 years', 0.875],\n",
       " ['+140k', 'wedding', ' 3 years', 0.7387387387387387],\n",
       " ['100k', 'car', ' 3 years', 0.6616541353383458],\n",
       " ['100k', 'credit_card', ' 3 years', 0.7166936790923825],\n",
       " ['100k', 'debt_consolidation', ' 3 years', 0.631484794275492],\n",
       " ['100k', 'educational', ' 3 years', 1.0],\n",
       " ['100k', 'home_improvement', ' 3 years', 0.6671664167916042],\n",
       " ['100k', 'house', ' 3 years', 0.6308724832214765],\n",
       " ['100k', 'major_purchase', ' 3 years', 0.7467105263157895],\n",
       " ['100k', 'medical', ' 3 years', 0.7983193277310925],\n",
       " ['100k', 'moving', ' 3 years', 0.8346456692913385],\n",
       " ['100k', 'other', ' 3 years', 0.7309644670050761],\n",
       " ['100k', 'renewable_energy', ' 3 years', 0.8095238095238095],\n",
       " ['100k', 'small_business', ' 3 years', 0.690522243713733],\n",
       " ['100k', 'vacation', ' 3 years', 0.8671875],\n",
       " ['100k', 'wedding', ' 3 years', 0.839622641509434],\n",
       " ['120k', 'car', ' 3 years', 0.7557755775577558],\n",
       " ['120k', 'credit_card', ' 3 years', 0.7268153385912428],\n",
       " ['120k', 'debt_consolidation', ' 3 years', 0.6358915775262228],\n",
       " ['120k', 'educational', ' 3 years', 1.0],\n",
       " ['120k', 'home_improvement', ' 3 years', 0.6646366220056841],\n",
       " ['120k', 'house', ' 3 years', 0.6],\n",
       " ['120k', 'major_purchase', ' 3 years', 0.7567954220314735],\n",
       " ['120k', 'medical', ' 3 years', 0.7770700636942676],\n",
       " ['120k', 'moving', ' 3 years', 0.7341772151898734],\n",
       " ['120k', 'other', ' 3 years', 0.7421991084695394],\n",
       " ['120k', 'renewable_energy', ' 3 years', 0.7692307692307693],\n",
       " ['120k', 'small_business', ' 3 years', 0.6625874125874126],\n",
       " ['120k', 'vacation', ' 3 years', 0.8590604026845637],\n",
       " ['120k', 'wedding', ' 3 years', 0.8],\n",
       " ['140k', 'car', ' 3 years', 0.7692307692307693],\n",
       " ['140k', 'credit_card', ' 3 years', 0.7201453790238836],\n",
       " ['140k', 'debt_consolidation', ' 3 years', 0.6347914547304171],\n",
       " ['140k', 'educational', ' 3 years', 1.0],\n",
       " ['140k', 'home_improvement', ' 3 years', 0.6487232574189096],\n",
       " ['140k', 'house', ' 3 years', 0.6666666666666666],\n",
       " ['140k', 'major_purchase', ' 3 years', 0.7512820512820513],\n",
       " ['140k', 'medical', ' 3 years', 0.7080745341614907],\n",
       " ['140k', 'moving', ' 3 years', 0.7555555555555555],\n",
       " ['140k', 'other', ' 3 years', 0.7050473186119873],\n",
       " ['140k', 'renewable_energy', ' 3 years', 0.6153846153846154],\n",
       " ['140k', 'small_business', ' 3 years', 0.6616766467065869],\n",
       " ['140k', 'vacation', ' 3 years', 0.8852459016393442],\n",
       " ['140k', 'wedding', ' 3 years', 0.7857142857142857],\n",
       " ['20k', 'car', ' 3 years', 0.8865979381443299],\n",
       " ['20k', 'credit_card', ' 3 years', 0.9954545454545455],\n",
       " ['20k', 'debt_consolidation', ' 3 years', 0.974025974025974],\n",
       " ['20k', 'educational', ' 3 years', 0.9772727272727273],\n",
       " ['20k', 'home_improvement', ' 3 years', 0.9716981132075472],\n",
       " ['20k', 'house', ' 3 years', 1.0],\n",
       " ['20k', 'major_purchase', ' 3 years', 0.9205776173285198],\n",
       " ['20k', 'medical', ' 3 years', 0.9186991869918699],\n",
       " ['20k', 'moving', ' 3 years', 0.9319727891156463],\n",
       " ['20k', 'other', ' 3 years', 0.9310344827586207],\n",
       " ['20k', 'renewable_energy', ' 3 years', 1.0],\n",
       " ['20k', 'small_business', ' 3 years', 0.8990825688073395],\n",
       " ['20k', 'vacation', ' 3 years', 0.9852941176470589],\n",
       " ['20k', 'wedding', ' 3 years', 0.9459459459459459],\n",
       " ['30k', 'car', ' 3 years', 0.855917667238422],\n",
       " ['30k', 'credit_card', ' 3 years', 0.9350608804246019],\n",
       " ['30k', 'debt_consolidation', ' 3 years', 0.909262883235486],\n",
       " ['30k', 'educational', ' 3 years', 0.9393939393939394],\n",
       " ['30k', 'home_improvement', ' 3 years', 0.8902439024390244],\n",
       " ['30k', 'house', ' 3 years', 0.9166666666666666],\n",
       " ['30k', 'major_purchase', ' 3 years', 0.8977591036414566],\n",
       " ['30k', 'medical', ' 3 years', 0.9646739130434783],\n",
       " ['30k', 'moving', ' 3 years', 0.9281045751633987],\n",
       " ['30k', 'other', ' 3 years', 0.9106830122591943],\n",
       " ['30k', 'renewable_energy', ' 3 years', 0.95],\n",
       " ['30k', 'small_business', ' 3 years', 0.9077306733167082],\n",
       " ['30k', 'vacation', ' 3 years', 0.9506172839506173],\n",
       " ['30k', 'wedding', ' 3 years', 0.8846153846153846],\n",
       " ['40k', 'car', ' 3 years', 0.8090322580645162],\n",
       " ['40k', 'credit_card', ' 3 years', 0.8433029908972692],\n",
       " ['40k', 'debt_consolidation', ' 3 years', 0.8027496658392209],\n",
       " ['40k', 'educational', ' 3 years', 0.9824561403508771],\n",
       " ['40k', 'home_improvement', ' 3 years', 0.8246445497630331],\n",
       " ['40k', 'house', ' 3 years', 0.7894736842105263],\n",
       " ['40k', 'major_purchase', ' 3 years', 0.8106060606060606],\n",
       " ['40k', 'medical', ' 3 years', 0.875],\n",
       " ['40k', 'moving', ' 3 years', 0.9031531531531531],\n",
       " ['40k', 'other', ' 3 years', 0.8637032675890491],\n",
       " ['40k', 'renewable_energy', ' 3 years', 0.8333333333333334],\n",
       " ['40k', 'small_business', ' 3 years', 0.8194029850746268],\n",
       " ['40k', 'vacation', ' 3 years', 0.9242819843342036],\n",
       " ['40k', 'wedding', ' 3 years', 0.8990536277602523],\n",
       " ['50k', 'car', ' 3 years', 0.7798277982779828],\n",
       " ['50k', 'credit_card', ' 3 years', 0.7736738202891167],\n",
       " ['50k', 'debt_consolidation', ' 3 years', 0.7164573048536097],\n",
       " ['50k', 'educational', ' 3 years', 0.9183673469387755],\n",
       " ['50k', 'home_improvement', ' 3 years', 0.7302204928664072],\n",
       " ['50k', 'house', ' 3 years', 0.7384105960264901],\n",
       " ['50k', 'major_purchase', ' 3 years', 0.8069784706755754],\n",
       " ['50k', 'medical', ' 3 years', 0.8519040902679831],\n",
       " ['50k', 'moving', ' 3 years', 0.9238900634249472],\n",
       " ['50k', 'other', ' 3 years', 0.7974543442169342],\n",
       " ['50k', 'renewable_energy', ' 3 years', 0.8444444444444444],\n",
       " ['50k', 'small_business', ' 3 years', 0.7591687041564792],\n",
       " ['50k', 'vacation', ' 3 years', 0.8994565217391305],\n",
       " ['50k', 'wedding', ' 3 years', 0.8264462809917356],\n",
       " ['60k', 'car', ' 3 years', 0.7594594594594595],\n",
       " ['60k', 'credit_card', ' 3 years', 0.7396123767426046],\n",
       " ['60k', 'debt_consolidation', ' 3 years', 0.6724861714737258],\n",
       " ['60k', 'educational', ' 3 years', 0.9210526315789473],\n",
       " ['60k', 'home_improvement', ' 3 years', 0.7007727975270479],\n",
       " ['60k', 'house', ' 3 years', 0.6751824817518248],\n",
       " ['60k', 'major_purchase', ' 3 years', 0.7600931677018633],\n",
       " ['60k', 'medical', ' 3 years', 0.8038585209003215],\n",
       " ['60k', 'moving', ' 3 years', 0.8629441624365483],\n",
       " ['60k', 'other', ' 3 years', 0.7898457583547558],\n",
       " ['60k', 'renewable_energy', ' 3 years', 0.8611111111111112],\n",
       " ['60k', 'small_business', ' 3 years', 0.7293844367015099],\n",
       " ['60k', 'vacation', ' 3 years', 0.8985074626865671],\n",
       " ['60k', 'wedding', ' 3 years', 0.8347578347578347],\n",
       " ['70k', 'car', ' 3 years', 0.7602339181286549],\n",
       " ['70k', 'credit_card', ' 3 years', 0.7323058882653488],\n",
       " ['70k', 'debt_consolidation', ' 3 years', 0.6510445215908399],\n",
       " ['70k', 'educational', ' 3 years', 0.9655172413793104],\n",
       " ['70k', 'home_improvement', ' 3 years', 0.6985887096774194],\n",
       " ['70k', 'house', ' 3 years', 0.7126436781609196],\n",
       " ['70k', 'major_purchase', ' 3 years', 0.7535014005602241],\n",
       " ['70k', 'medical', ' 3 years', 0.8275109170305677],\n",
       " ['70k', 'moving', ' 3 years', 0.8413284132841329],\n",
       " ['70k', 'other', ' 3 years', 0.7612903225806451],\n",
       " ['70k', 'renewable_energy', ' 3 years', 0.7222222222222222],\n",
       " ['70k', 'small_business', ' 3 years', 0.7161016949152542],\n",
       " ['70k', 'vacation', ' 3 years', 0.9145907473309609],\n",
       " ['70k', 'wedding', ' 3 years', 0.7943262411347518],\n",
       " ['80k', 'car', ' 3 years', 0.7346938775510204],\n",
       " ['80k', 'credit_card', ' 3 years', 0.7165361848386481],\n",
       " ['80k', 'debt_consolidation', ' 3 years', 0.6428063184858404],\n",
       " ['80k', 'educational', ' 3 years', 0.8947368421052632],\n",
       " ['80k', 'home_improvement', ' 3 years', 0.6687116564417178],\n",
       " ['80k', 'house', ' 3 years', 0.6570048309178744],\n",
       " ['80k', 'major_purchase', ' 3 years', 0.7624434389140271],\n",
       " ['80k', 'medical', ' 3 years', 0.7871853546910755],\n",
       " ['80k', 'moving', ' 3 years', 0.8617886178861789],\n",
       " ['80k', 'other', ' 3 years', 0.740234375],\n",
       " ['80k', 'renewable_energy', ' 3 years', 0.8292682926829268],\n",
       " ['80k', 'small_business', ' 3 years', 0.6543026706231454],\n",
       " ['80k', 'vacation', ' 3 years', 0.8883720930232558],\n",
       " ['80k', 'wedding', ' 3 years', 0.8291666666666667],\n",
       " ['90k', 'car', ' 3 years', 0.7197640117994101],\n",
       " ['90k', 'credit_card', ' 3 years', 0.7151436031331593],\n",
       " ['90k', 'debt_consolidation', ' 3 years', 0.6344569643026229],\n",
       " ['90k', 'educational', ' 3 years', 1.0],\n",
       " ['90k', 'home_improvement', ' 3 years', 0.6650268336314848],\n",
       " ['90k', 'house', ' 3 years', 0.7061855670103093],\n",
       " ['90k', 'major_purchase', ' 3 years', 0.7496360989810772],\n",
       " ['90k', 'medical', ' 3 years', 0.7953020134228188],\n",
       " ['90k', 'moving', ' 3 years', 0.8373493975903614],\n",
       " ['90k', 'other', ' 3 years', 0.7510231923601637],\n",
       " ['90k', 'renewable_energy', ' 3 years', 0.9],\n",
       " ['90k', 'small_business', ' 3 years', 0.6889763779527559],\n",
       " ['90k', 'vacation', ' 3 years', 0.9276315789473685],\n",
       " ['90k', 'wedding', ' 3 years', 0.7922077922077922],\n",
       " ['+140k', 'car', ' 5 years', 0.23790322580645162],\n",
       " ['+140k', 'credit_card', ' 5 years', 0.25171433350058536],\n",
       " ['+140k', 'debt_consolidation', ' 5 years', 0.33383696174713273],\n",
       " ['+140k', 'educational', ' 5 years', 0.0],\n",
       " ['+140k', 'home_improvement', ' 5 years', 0.3408863712095968],\n",
       " ['+140k', 'house', ' 5 years', 0.34517766497461927],\n",
       " ['+140k', 'major_purchase', ' 5 years', 0.280359820089955],\n",
       " ['+140k', 'medical', ' 5 years', 0.23255813953488372],\n",
       " ['+140k', 'moving', ' 5 years', 0.23668639053254437],\n",
       " ['+140k', 'other', ' 5 years', 0.2877752467729689],\n",
       " ['+140k', 'renewable_energy', ' 5 years', 0.24],\n",
       " ['+140k', 'small_business', ' 5 years', 0.279322853688029],\n",
       " ['+140k', 'vacation', ' 5 years', 0.125],\n",
       " ['+140k', 'wedding', ' 5 years', 0.26126126126126126],\n",
       " ['100k', 'car', ' 5 years', 0.3383458646616541],\n",
       " ['100k', 'credit_card', ' 5 years', 0.2833063209076175],\n",
       " ['100k', 'debt_consolidation', ' 5 years', 0.3685152057245081],\n",
       " ['100k', 'educational', ' 5 years', 0.0],\n",
       " ['100k', 'home_improvement', ' 5 years', 0.3328335832083958],\n",
       " ['100k', 'house', ' 5 years', 0.3691275167785235],\n",
       " ['100k', 'major_purchase', ' 5 years', 0.2532894736842105],\n",
       " ['100k', 'medical', ' 5 years', 0.20168067226890757],\n",
       " ['100k', 'moving', ' 5 years', 0.16535433070866143],\n",
       " ['100k', 'other', ' 5 years', 0.26903553299492383],\n",
       " ['100k', 'renewable_energy', ' 5 years', 0.19047619047619047],\n",
       " ['100k', 'small_business', ' 5 years', 0.30947775628626695],\n",
       " ['100k', 'vacation', ' 5 years', 0.1328125],\n",
       " ['100k', 'wedding', ' 5 years', 0.16037735849056603],\n",
       " ['120k', 'car', ' 5 years', 0.24422442244224424],\n",
       " ['120k', 'credit_card', ' 5 years', 0.27318466140875713],\n",
       " ['120k', 'debt_consolidation', ' 5 years', 0.3641084224737771],\n",
       " ['120k', 'educational', ' 5 years', 0.0],\n",
       " ['120k', 'home_improvement', ' 5 years', 0.33536337799431587],\n",
       " ['120k', 'house', ' 5 years', 0.4],\n",
       " ['120k', 'major_purchase', ' 5 years', 0.24320457796852646],\n",
       " ['120k', 'medical', ' 5 years', 0.2229299363057325],\n",
       " ['120k', 'moving', ' 5 years', 0.26582278481012656],\n",
       " ['120k', 'other', ' 5 years', 0.2578008915304606],\n",
       " ['120k', 'renewable_energy', ' 5 years', 0.23076923076923078],\n",
       " ['120k', 'small_business', ' 5 years', 0.3374125874125874],\n",
       " ['120k', 'vacation', ' 5 years', 0.14093959731543623],\n",
       " ['120k', 'wedding', ' 5 years', 0.2],\n",
       " ['140k', 'car', ' 5 years', 0.23076923076923078],\n",
       " ['140k', 'credit_card', ' 5 years', 0.2798546209761163],\n",
       " ['140k', 'debt_consolidation', ' 5 years', 0.3652085452695829],\n",
       " ['140k', 'educational', ' 5 years', 0.0],\n",
       " ['140k', 'home_improvement', ' 5 years', 0.35127674258109043],\n",
       " ['140k', 'house', ' 5 years', 0.3333333333333333],\n",
       " ['140k', 'major_purchase', ' 5 years', 0.24871794871794872],\n",
       " ['140k', 'medical', ' 5 years', 0.2919254658385093],\n",
       " ['140k', 'moving', ' 5 years', 0.24444444444444444],\n",
       " ['140k', 'other', ' 5 years', 0.2949526813880126],\n",
       " ['140k', 'renewable_energy', ' 5 years', 0.38461538461538464],\n",
       " ['140k', 'small_business', ' 5 years', 0.3383233532934132],\n",
       " ['140k', 'vacation', ' 5 years', 0.11475409836065574],\n",
       " ['140k', 'wedding', ' 5 years', 0.21428571428571427],\n",
       " ['20k', 'car', ' 5 years', 0.1134020618556701],\n",
       " ['20k', 'credit_card', ' 5 years', 0.004545454545454545],\n",
       " ['20k', 'debt_consolidation', ' 5 years', 0.025974025974025976],\n",
       " ['20k', 'educational', ' 5 years', 0.022727272727272728],\n",
       " ['20k', 'home_improvement', ' 5 years', 0.02830188679245283],\n",
       " ['20k', 'house', ' 5 years', 0.0],\n",
       " ['20k', 'major_purchase', ' 5 years', 0.07942238267148015],\n",
       " ['20k', 'medical', ' 5 years', 0.08130081300813008],\n",
       " ['20k', 'moving', ' 5 years', 0.06802721088435375],\n",
       " ['20k', 'other', ' 5 years', 0.06896551724137931],\n",
       " ['20k', 'renewable_energy', ' 5 years', 0.0],\n",
       " ['20k', 'small_business', ' 5 years', 0.10091743119266056],\n",
       " ['20k', 'vacation', ' 5 years', 0.014705882352941176],\n",
       " ['20k', 'wedding', ' 5 years', 0.05405405405405406],\n",
       " ['30k', 'car', ' 5 years', 0.14408233276157806],\n",
       " ['30k', 'credit_card', ' 5 years', 0.06493911957539807],\n",
       " ['30k', 'debt_consolidation', ' 5 years', 0.09073711676451403],\n",
       " ['30k', 'educational', ' 5 years', 0.06060606060606061],\n",
       " ['30k', 'home_improvement', ' 5 years', 0.10975609756097561],\n",
       " ['30k', 'house', ' 5 years', 0.08333333333333333],\n",
       " ['30k', 'major_purchase', ' 5 years', 0.10224089635854341],\n",
       " ['30k', 'medical', ' 5 years', 0.035326086956521736],\n",
       " ['30k', 'moving', ' 5 years', 0.0718954248366013],\n",
       " ['30k', 'other', ' 5 years', 0.0893169877408056],\n",
       " ['30k', 'renewable_energy', ' 5 years', 0.05],\n",
       " ['30k', 'small_business', ' 5 years', 0.09226932668329177],\n",
       " ['30k', 'vacation', ' 5 years', 0.04938271604938271],\n",
       " ['30k', 'wedding', ' 5 years', 0.11538461538461539],\n",
       " ['40k', 'car', ' 5 years', 0.19096774193548388],\n",
       " ['40k', 'credit_card', ' 5 years', 0.15669700910273082],\n",
       " ['40k', 'debt_consolidation', ' 5 years', 0.19725033416077908],\n",
       " ['40k', 'educational', ' 5 years', 0.017543859649122806],\n",
       " ['40k', 'home_improvement', ' 5 years', 0.17535545023696683],\n",
       " ['40k', 'house', ' 5 years', 0.21052631578947367],\n",
       " ['40k', 'major_purchase', ' 5 years', 0.1893939393939394],\n",
       " ['40k', 'medical', ' 5 years', 0.125],\n",
       " ['40k', 'moving', ' 5 years', 0.09684684684684684],\n",
       " ['40k', 'other', ' 5 years', 0.13629673241095083],\n",
       " ['40k', 'renewable_energy', ' 5 years', 0.16666666666666666],\n",
       " ['40k', 'small_business', ' 5 years', 0.18059701492537314],\n",
       " ['40k', 'vacation', ' 5 years', 0.07571801566579635],\n",
       " ['40k', 'wedding', ' 5 years', 0.10094637223974763],\n",
       " ['50k', 'car', ' 5 years', 0.2201722017220172],\n",
       " ['50k', 'credit_card', ' 5 years', 0.22632617971088326],\n",
       " ['50k', 'debt_consolidation', ' 5 years', 0.28354269514639036],\n",
       " ['50k', 'educational', ' 5 years', 0.08163265306122448],\n",
       " ['50k', 'home_improvement', ' 5 years', 0.2697795071335927],\n",
       " ['50k', 'house', ' 5 years', 0.26158940397350994],\n",
       " ['50k', 'major_purchase', ' 5 years', 0.19302152932442465],\n",
       " ['50k', 'medical', ' 5 years', 0.14809590973201692],\n",
       " ['50k', 'moving', ' 5 years', 0.07610993657505286],\n",
       " ['50k', 'other', ' 5 years', 0.20254565578306585],\n",
       " ['50k', 'renewable_energy', ' 5 years', 0.15555555555555556],\n",
       " ['50k', 'small_business', ' 5 years', 0.24083129584352078],\n",
       " ['50k', 'vacation', ' 5 years', 0.10054347826086957],\n",
       " ['50k', 'wedding', ' 5 years', 0.17355371900826447],\n",
       " ['60k', 'car', ' 5 years', 0.24054054054054055],\n",
       " ['60k', 'credit_card', ' 5 years', 0.26038762325739545],\n",
       " ['60k', 'debt_consolidation', ' 5 years', 0.3275138285262742],\n",
       " ['60k', 'educational', ' 5 years', 0.07894736842105263],\n",
       " ['60k', 'home_improvement', ' 5 years', 0.2992272024729521],\n",
       " ['60k', 'house', ' 5 years', 0.3248175182481752],\n",
       " ['60k', 'major_purchase', ' 5 years', 0.23990683229813664],\n",
       " ['60k', 'medical', ' 5 years', 0.19614147909967847],\n",
       " ['60k', 'moving', ' 5 years', 0.13705583756345177],\n",
       " ['60k', 'other', ' 5 years', 0.2101542416452442],\n",
       " ['60k', 'renewable_energy', ' 5 years', 0.1388888888888889],\n",
       " ['60k', 'small_business', ' 5 years', 0.2706155632984901],\n",
       " ['60k', 'vacation', ' 5 years', 0.10149253731343283],\n",
       " ['60k', 'wedding', ' 5 years', 0.16524216524216523],\n",
       " ['70k', 'car', ' 5 years', 0.23976608187134502],\n",
       " ['70k', 'credit_card', ' 5 years', 0.26769411173465113],\n",
       " ['70k', 'debt_consolidation', ' 5 years', 0.34895547840916014],\n",
       " ['70k', 'educational', ' 5 years', 0.034482758620689655],\n",
       " ['70k', 'home_improvement', ' 5 years', 0.3014112903225806],\n",
       " ['70k', 'house', ' 5 years', 0.28735632183908044],\n",
       " ['70k', 'major_purchase', ' 5 years', 0.24649859943977592],\n",
       " ['70k', 'medical', ' 5 years', 0.17248908296943233],\n",
       " ['70k', 'moving', ' 5 years', 0.15867158671586715],\n",
       " ['70k', 'other', ' 5 years', 0.23870967741935484],\n",
       " ['70k', 'renewable_energy', ' 5 years', 0.2777777777777778],\n",
       " ['70k', 'small_business', ' 5 years', 0.2838983050847458],\n",
       " ['70k', 'vacation', ' 5 years', 0.08540925266903915],\n",
       " ['70k', 'wedding', ' 5 years', 0.20567375886524822],\n",
       " ['80k', 'car', ' 5 years', 0.2653061224489796],\n",
       " ['80k', 'credit_card', ' 5 years', 0.28346381516135194],\n",
       " ['80k', 'debt_consolidation', ' 5 years', 0.35719368151415964],\n",
       " ['80k', 'educational', ' 5 years', 0.10526315789473684],\n",
       " ['80k', 'home_improvement', ' 5 years', 0.3312883435582822],\n",
       " ['80k', 'house', ' 5 years', 0.34299516908212563],\n",
       " ['80k', 'major_purchase', ' 5 years', 0.23755656108597284],\n",
       " ['80k', 'medical', ' 5 years', 0.2128146453089245],\n",
       " ['80k', 'moving', ' 5 years', 0.13821138211382114],\n",
       " ['80k', 'other', ' 5 years', 0.259765625],\n",
       " ['80k', 'renewable_energy', ' 5 years', 0.17073170731707318],\n",
       " ['80k', 'small_business', ' 5 years', 0.3456973293768546],\n",
       " ['80k', 'vacation', ' 5 years', 0.11162790697674418],\n",
       " ['80k', 'wedding', ' 5 years', 0.17083333333333334],\n",
       " ['90k', 'car', ' 5 years', 0.28023598820059],\n",
       " ['90k', 'credit_card', ' 5 years', 0.2848563968668407],\n",
       " ['90k', 'debt_consolidation', ' 5 years', 0.3655430356973771],\n",
       " ['90k', 'educational', ' 5 years', 0.0],\n",
       " ['90k', 'home_improvement', ' 5 years', 0.3349731663685152],\n",
       " ['90k', 'house', ' 5 years', 0.29381443298969073],\n",
       " ['90k', 'major_purchase', ' 5 years', 0.25036390101892286],\n",
       " ['90k', 'medical', ' 5 years', 0.20469798657718122],\n",
       " ['90k', 'moving', ' 5 years', 0.16265060240963855],\n",
       " ['90k', 'other', ' 5 years', 0.2489768076398363],\n",
       " ['90k', 'renewable_energy', ' 5 years', 0.1],\n",
       " ['90k', 'small_business', ' 5 years', 0.3110236220472441],\n",
       " ['90k', 'vacation', ' 5 years', 0.07236842105263158],\n",
       " ['90k', 'wedding', ' 5 years', 0.2077922077922078]]"
      ]
     },
     "execution_count": 8,
     "metadata": {},
     "output_type": "execute_result"
    }
   ],
   "source": [
    "get_conditional_prob_distribution(df,['term'],['annual_inc','purpose'])"
   ]
  },
  {
   "cell_type": "markdown",
   "id": "8c3b2eb5",
   "metadata": {},
   "source": [
    "#### Getting marginal probability distribution"
   ]
  },
  {
   "cell_type": "code",
   "execution_count": 9,
   "id": "428292c7",
   "metadata": {},
   "outputs": [],
   "source": [
    "def get_marginal_prob_distribution(df,variable):\n",
    "    \n",
    "    df1= df[variable].value_counts(normalize=True)\n",
    "    \n",
    "    d=dict(zip(df1.index,df1.values))\n",
    "\n",
    "\n",
    "    return d"
   ]
  },
  {
   "cell_type": "code",
   "execution_count": 10,
   "id": "58d86518",
   "metadata": {},
   "outputs": [
    {
     "data": {
      "text/plain": [
       "{'50k': 0.1472067494614335,\n",
       " '60k': 0.14266004651841424,\n",
       " '70k': 0.11617373168659291,\n",
       " '40k': 0.11570168135744509,\n",
       " '80k': 0.1005338460085999,\n",
       " '90k': 0.07513968398376147,\n",
       " '120k': 0.0708161321054303,\n",
       " '100k': 0.06071210937835263,\n",
       " '30k': 0.06008986121720323,\n",
       " '+140k': 0.059055641859706645,\n",
       " '140k': 0.03671478719112889,\n",
       " '20k': 0.015195729231931202}"
      ]
     },
     "execution_count": 10,
     "metadata": {},
     "output_type": "execute_result"
    }
   ],
   "source": [
    "get_marginal_prob_distribution(df,'annual_inc')"
   ]
  },
  {
   "cell_type": "markdown",
   "id": "7c268540",
   "metadata": {},
   "source": [
    "### Setting nodes and corresponding cpds"
   ]
  },
  {
   "cell_type": "code",
   "execution_count": 11,
   "id": "62638118",
   "metadata": {},
   "outputs": [],
   "source": [
    "annual_inc = DiscreteDistribution(get_marginal_prob_distribution(df,'annual_inc'))\n",
    "\n",
    "emp_length_int = DiscreteDistribution(get_marginal_prob_distribution(df,'emp_length_int'))\n",
    "\n",
    "purpose = DiscreteDistribution(get_marginal_prob_distribution(df,'purpose'))\n"
   ]
  },
  {
   "cell_type": "code",
   "execution_count": 12,
   "id": "16463baa",
   "metadata": {},
   "outputs": [],
   "source": [
    "home_ownership= ConditionalProbabilityTable(\n",
    "    get_conditional_prob_distribution(df,['home_ownership'],['annual_inc','emp_length_int']), \n",
    "    [annual_inc, emp_length_int]\n",
    "\n",
    ") "
   ]
  },
  {
   "cell_type": "code",
   "execution_count": 13,
   "id": "f0c797cd",
   "metadata": {},
   "outputs": [],
   "source": [
    "term= ConditionalProbabilityTable(\n",
    "    get_conditional_prob_distribution(df,['term'],['annual_inc','purpose']), \n",
    "    [annual_inc, purpose]\n",
    "\n",
    ") "
   ]
  },
  {
   "cell_type": "code",
   "execution_count": 14,
   "id": "51f03adb",
   "metadata": {},
   "outputs": [],
   "source": [
    "int_rate= ConditionalProbabilityTable(\n",
    "    get_conditional_prob_distribution(df,['int_rate'],['term','purpose']), \n",
    "    [term,purpose]\n",
    "\n",
    ") "
   ]
  },
  {
   "cell_type": "code",
   "execution_count": 15,
   "id": "1856b44c",
   "metadata": {},
   "outputs": [],
   "source": [
    "grade= ConditionalProbabilityTable(\n",
    "    get_conditional_prob_distribution(df,['grade'],['home_ownership','emp_length_int','int_rate']), \n",
    "    [home_ownership,emp_length_int,int_rate]\n",
    "\n",
    ") "
   ]
  },
  {
   "cell_type": "code",
   "execution_count": 16,
   "id": "79b0edf5",
   "metadata": {},
   "outputs": [],
   "source": [
    "mths_since_last_delinq= ConditionalProbabilityTable(\n",
    "    get_conditional_prob_distribution(df,['mths_since_last_delinq'],['purpose','emp_length_int']), \n",
    "    [purpose,emp_length_int]\n",
    "\n",
    ") "
   ]
  },
  {
   "cell_type": "code",
   "execution_count": 17,
   "id": "c99eb73c",
   "metadata": {},
   "outputs": [],
   "source": [
    "creditworthiness= ConditionalProbabilityTable(\n",
    "    get_conditional_prob_distribution(df,['good_bad'],['grade','mths_since_last_delinq']), \n",
    "    [grade,mths_since_last_delinq]\n",
    "\n",
    ") "
   ]
  },
  {
   "cell_type": "markdown",
   "id": "26e45e05",
   "metadata": {},
   "source": [
    "### Setting Nodes"
   ]
  },
  {
   "cell_type": "code",
   "execution_count": 18,
   "id": "895fc782",
   "metadata": {},
   "outputs": [],
   "source": [
    "s1 = Node(annual_inc, name=\"annual_inc\")\n",
    "s2 = Node(emp_length_int, name=\"emp_length_int\")\n",
    "s3 = Node(purpose, name=\"purpose\")\n",
    "s4 = Node(home_ownership, name=\"home_ownership\")\n",
    "s5 = Node(term, name=\"term\")\n",
    "s6 = Node(grade, name=\"grade\")\n",
    "s7 = Node(int_rate, name=\"int_rate\")\n",
    "s8 = Node(mths_since_last_delinq, name=\"mths_since_last_delinq\")\n",
    "s9 = Node(creditworthiness, name=\"creditworthiness\")"
   ]
  },
  {
   "cell_type": "markdown",
   "id": "0cbc06d5",
   "metadata": {},
   "source": [
    "### Constructing connections"
   ]
  },
  {
   "cell_type": "code",
   "execution_count": 19,
   "id": "98d08f76",
   "metadata": {},
   "outputs": [],
   "source": [
    "model = BayesianNetwork(\"Credit Worthiness\")\n",
    "\n",
    "model.add_nodes(s1, s2, s3, s4, s5, s6, s7, s8,s9)\n",
    "model.add_edge(s1, s4)\n",
    "model.add_edge(s1, s5)\n",
    "model.add_edge(s2, s4)\n",
    "model.add_edge(s2, s6)\n",
    "model.add_edge(s2, s8)\n",
    "model.add_edge(s3, s5)\n",
    "model.add_edge(s3, s7)\n",
    "model.add_edge(s3, s8)\n",
    "model.add_edge(s4, s6)\n",
    "model.add_edge(s5, s7)\n",
    "model.add_edge(s6, s9)\n",
    "model.add_edge(s7, s6)\n",
    "model.add_edge(s8, s9)\n",
    "\n",
    "model.bake()"
   ]
  },
  {
   "cell_type": "code",
   "execution_count": 33,
   "id": "6b13b7e0",
   "metadata": {},
   "outputs": [
    {
     "data": {
      "text/plain": [
       "2"
      ]
     },
     "execution_count": 33,
     "metadata": {},
     "output_type": "execute_result"
    }
   ],
   "source": [
    "a=model.predict_proba([{'int_rate':'high',\"purpose\":'house'},{\"purpose\":'car'}])\n",
    "len(a)"
   ]
  },
  {
   "cell_type": "code",
   "execution_count": 21,
   "id": "4a1023a7",
   "metadata": {},
   "outputs": [],
   "source": [
    "def predict(x):\n",
    "\n",
    "    keys= [i.to_dict()['name'] for i in model.states]\n",
    "    values = [None if i == 'None' else i for i in x]\n",
    "    mapping_dict= dict(zip(keys,values))\n",
    "    mapping_dict_filtered = {k: v for k, v in mapping_dict.items() if v is not None}\n",
    "    prediction= model.predict_proba([mapping_dict_filtered])[0][8].to_dict()['parameters'][0]\n",
    "    no = np.round(prediction['bad'],2)\n",
    "    yes= np.round(prediction['good'],2)\n",
    "    return f'Probability of {keys[8]} given your observations equals: yes:{yes} no:{no}'\n",
    "\n",
    "    "
   ]
  },
  {
   "cell_type": "code",
   "execution_count": 22,
   "id": "688170b1",
   "metadata": {},
   "outputs": [
    {
     "data": {
      "text/plain": [
       "'Probability of creditworthiness given your observations equals: yes:0.72 no:0.28'"
      ]
     },
     "execution_count": 22,
     "metadata": {},
     "output_type": "execute_result"
    }
   ],
   "source": [
    "predict(['None','None','None','None','None','G','None','None'])"
   ]
  },
  {
   "cell_type": "code",
   "execution_count": 23,
   "id": "6b207245",
   "metadata": {},
   "outputs": [
    {
     "data": {
      "text/plain": [
       "'Probability of creditworthiness given your observations equals: yes:0.89 no:0.11'"
      ]
     },
     "execution_count": 23,
     "metadata": {},
     "output_type": "execute_result"
    }
   ],
   "source": [
    "predict(['50k', 'None', 'None', 'None', 'None', 'None', 'None', 'None', 'None'])"
   ]
  },
  {
   "cell_type": "markdown",
   "id": "edd15907",
   "metadata": {},
   "source": [
    "### Saving our model"
   ]
  },
  {
   "cell_type": "code",
   "execution_count": null,
   "id": "d0651a89",
   "metadata": {},
   "outputs": [],
   "source": [
    "my_model=model.to_json()"
   ]
  },
  {
   "cell_type": "code",
   "execution_count": null,
   "id": "d1451dbb",
   "metadata": {},
   "outputs": [],
   "source": [
    "pickle.dump(my_model, open('model.pkl','wb'))"
   ]
  },
  {
   "cell_type": "code",
   "execution_count": 6,
   "id": "ca5efbb1",
   "metadata": {},
   "outputs": [],
   "source": [
    "model_json = pickle.load(open('model.pkl', 'rb'))"
   ]
  },
  {
   "cell_type": "code",
   "execution_count": 7,
   "id": "0a480163",
   "metadata": {},
   "outputs": [],
   "source": [
    "model=BayesianNetwork.from_json(model_json)"
   ]
  },
  {
   "cell_type": "markdown",
   "id": "676dd56b",
   "metadata": {},
   "source": [
    "### Requirements"
   ]
  },
  {
   "cell_type": "code",
   "execution_count": 40,
   "id": "e00fcc61",
   "metadata": {},
   "outputs": [
    {
     "data": {
      "text/plain": [
       "'0.14.5'"
      ]
     },
     "execution_count": 40,
     "metadata": {},
     "output_type": "execute_result"
    }
   ],
   "source": [
    "pomegranate.__version__"
   ]
  },
  {
   "cell_type": "code",
   "execution_count": null,
   "id": "1b623af5",
   "metadata": {},
   "outputs": [],
   "source": []
  },
  {
   "cell_type": "markdown",
   "id": "b07e3e24",
   "metadata": {},
   "source": [
    "### Testing our api"
   ]
  },
  {
   "cell_type": "code",
   "execution_count": 1,
   "id": "94c6e221",
   "metadata": {},
   "outputs": [],
   "source": [
    "import requests"
   ]
  },
  {
   "cell_type": "markdown",
   "id": "66b5c0ca",
   "metadata": {},
   "source": [
    "### Defining our url"
   ]
  },
  {
   "cell_type": "code",
   "execution_count": 2,
   "id": "a0ededf8",
   "metadata": {},
   "outputs": [],
   "source": [
    "base_site=\"https://credit-model-iti.herokuapp.com/predict_api\""
   ]
  },
  {
   "cell_type": "markdown",
   "id": "d78ca7af",
   "metadata": {},
   "source": [
    "### Sending GET request"
   ]
  },
  {
   "cell_type": "code",
   "execution_count": 3,
   "id": "7ca14ee9",
   "metadata": {},
   "outputs": [
    {
     "data": {
      "text/plain": [
       "'Credit Risk APP is working'"
      ]
     },
     "execution_count": 3,
     "metadata": {},
     "output_type": "execute_result"
    }
   ],
   "source": [
    "r = requests.get(base_site)\n",
    "r.json()"
   ]
  },
  {
   "cell_type": "code",
   "execution_count": 6,
   "id": "63b0759a",
   "metadata": {},
   "outputs": [
    {
     "data": {
      "text/plain": [
       "<Response [200]>"
      ]
     },
     "execution_count": 6,
     "metadata": {},
     "output_type": "execute_result"
    }
   ],
   "source": [
    "r"
   ]
  },
  {
   "cell_type": "markdown",
   "id": "430578e9",
   "metadata": {},
   "source": [
    "### Sending POST request"
   ]
  },
  {
   "cell_type": "code",
   "execution_count": 5,
   "id": "bd5def9b",
   "metadata": {},
   "outputs": [
    {
     "data": {
      "text/plain": [
       "[{'bad': 0.04300280246781625, 'good': 0.9569971975321837},\n",
       " {'bad': 0.0937635425417053, 'good': 0.9062364574582947}]"
      ]
     },
     "execution_count": 5,
     "metadata": {},
     "output_type": "execute_result"
    }
   ],
   "source": [
    "r= requests.post(url=base_site,json=[{\"int_rate\":\"low\"},{\"purpose\":'car'}])\n",
    "r.json()"
   ]
  },
  {
   "cell_type": "markdown",
   "id": "ae0a71a4",
   "metadata": {},
   "source": [
    "### Batch predictions"
   ]
  },
  {
   "cell_type": "code",
   "execution_count": 160,
   "id": "25bf90b5",
   "metadata": {},
   "outputs": [
    {
     "data": {
      "text/plain": [
       "[{'bad': 0.038342358255419706, 'good': 0.9616576417445802},\n",
       " {'bad': 0.27913852054406485, 'good': 0.720861479455935}]"
      ]
     },
     "execution_count": 160,
     "metadata": {},
     "output_type": "execute_result"
    }
   ],
   "source": [
    "r= requests.post(url=base_site,json=[{\"grade\":'A',\"int_rate\":\"low\"},\n",
    "                                     {\"grade\":\"G\",\"int_rate\":\"sharp\"}])\n",
    "r.json()"
   ]
  },
  {
   "cell_type": "code",
   "execution_count": null,
   "id": "689346c6",
   "metadata": {},
   "outputs": [],
   "source": []
  }
 ],
 "metadata": {
  "kernelspec": {
   "display_name": "Python 3",
   "language": "python",
   "name": "python3"
  },
  "language_info": {
   "codemirror_mode": {
    "name": "ipython",
    "version": 3
   },
   "file_extension": ".py",
   "mimetype": "text/x-python",
   "name": "python",
   "nbconvert_exporter": "python",
   "pygments_lexer": "ipython3",
   "version": "3.9.2"
  }
 },
 "nbformat": 4,
 "nbformat_minor": 5
}
