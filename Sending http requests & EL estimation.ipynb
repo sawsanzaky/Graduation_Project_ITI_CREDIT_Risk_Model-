{
 "cells": [
  {
   "cell_type": "markdown",
   "id": "336857eb",
   "metadata": {
    "slideshow": {
     "slide_type": "slide"
    }
   },
   "source": [
    "### Importing relevant packages"
   ]
  },
  {
   "cell_type": "code",
   "execution_count": 1,
   "id": "1bad1599",
   "metadata": {
    "slideshow": {
     "slide_type": "fragment"
    }
   },
   "outputs": [],
   "source": [
    "import pickle\n",
    "import pandas as pd\n",
    "import requests\n",
    "import numpy as np\n",
    "import matplotlib.pyplot as plt\n",
    "import warnings\n",
    "warnings.filterwarnings('ignore')\n",
    "import pomegranate\n",
    "from pomegranate import *"
   ]
  },
  {
   "cell_type": "markdown",
   "id": "67812dc1",
   "metadata": {
    "slideshow": {
     "slide_type": "slide"
    }
   },
   "source": [
    "### Picking n samples"
   ]
  },
  {
   "cell_type": "code",
   "execution_count": 2,
   "id": "6892ac48",
   "metadata": {
    "slideshow": {
     "slide_type": "fragment"
    }
   },
   "outputs": [],
   "source": [
    "n=1000"
   ]
  },
  {
   "cell_type": "markdown",
   "id": "93b30871",
   "metadata": {
    "slideshow": {
     "slide_type": "slide"
    }
   },
   "source": [
    "### Loading lgd and ead demo data"
   ]
  },
  {
   "cell_type": "code",
   "execution_count": 3,
   "id": "0711d564",
   "metadata": {
    "scrolled": true,
    "slideshow": {
     "slide_type": "fragment"
    }
   },
   "outputs": [],
   "source": [
    "df = pd.read_csv(\"demo.csv\")\n",
    "df=df[:n]"
   ]
  },
  {
   "cell_type": "markdown",
   "id": "21eb1582",
   "metadata": {
    "slideshow": {
     "slide_type": "slide"
    }
   },
   "source": [
    "### Loading xgboost data"
   ]
  },
  {
   "cell_type": "code",
   "execution_count": 4,
   "id": "bb2e06a9",
   "metadata": {
    "slideshow": {
     "slide_type": "fragment"
    }
   },
   "outputs": [
    {
     "data": {
      "text/html": [
       "<div>\n",
       "<style scoped>\n",
       "    .dataframe tbody tr th:only-of-type {\n",
       "        vertical-align: middle;\n",
       "    }\n",
       "\n",
       "    .dataframe tbody tr th {\n",
       "        vertical-align: top;\n",
       "    }\n",
       "\n",
       "    .dataframe thead th {\n",
       "        text-align: right;\n",
       "    }\n",
       "</style>\n",
       "<table border=\"1\" class=\"dataframe\">\n",
       "  <thead>\n",
       "    <tr style=\"text-align: right;\">\n",
       "      <th></th>\n",
       "      <th>grade</th>\n",
       "      <th>home_ownership</th>\n",
       "      <th>verification_status</th>\n",
       "      <th>purpose</th>\n",
       "      <th>initial_list_status</th>\n",
       "      <th>term</th>\n",
       "      <th>emp_length_int</th>\n",
       "      <th>mths_since_issue_d</th>\n",
       "      <th>int_rate</th>\n",
       "      <th>annual_inc</th>\n",
       "      <th>mths_since_last_delinq</th>\n",
       "    </tr>\n",
       "  </thead>\n",
       "  <tbody>\n",
       "    <tr>\n",
       "      <th>0</th>\n",
       "      <td>2</td>\n",
       "      <td>2</td>\n",
       "      <td>2</td>\n",
       "      <td>2</td>\n",
       "      <td>0</td>\n",
       "      <td>0</td>\n",
       "      <td>0</td>\n",
       "      <td>5</td>\n",
       "      <td>1</td>\n",
       "      <td>7</td>\n",
       "      <td>0</td>\n",
       "    </tr>\n",
       "    <tr>\n",
       "      <th>1</th>\n",
       "      <td>0</td>\n",
       "      <td>0</td>\n",
       "      <td>0</td>\n",
       "      <td>1</td>\n",
       "      <td>0</td>\n",
       "      <td>0</td>\n",
       "      <td>3</td>\n",
       "      <td>5</td>\n",
       "      <td>2</td>\n",
       "      <td>9</td>\n",
       "      <td>4</td>\n",
       "    </tr>\n",
       "    <tr>\n",
       "      <th>2</th>\n",
       "      <td>1</td>\n",
       "      <td>2</td>\n",
       "      <td>2</td>\n",
       "      <td>5</td>\n",
       "      <td>0</td>\n",
       "      <td>0</td>\n",
       "      <td>2</td>\n",
       "      <td>6</td>\n",
       "      <td>3</td>\n",
       "      <td>6</td>\n",
       "      <td>3</td>\n",
       "    </tr>\n",
       "    <tr>\n",
       "      <th>3</th>\n",
       "      <td>3</td>\n",
       "      <td>2</td>\n",
       "      <td>2</td>\n",
       "      <td>8</td>\n",
       "      <td>0</td>\n",
       "      <td>0</td>\n",
       "      <td>0</td>\n",
       "      <td>3</td>\n",
       "      <td>1</td>\n",
       "      <td>4</td>\n",
       "      <td>4</td>\n",
       "    </tr>\n",
       "    <tr>\n",
       "      <th>4</th>\n",
       "      <td>3</td>\n",
       "      <td>2</td>\n",
       "      <td>1</td>\n",
       "      <td>1</td>\n",
       "      <td>0</td>\n",
       "      <td>1</td>\n",
       "      <td>3</td>\n",
       "      <td>6</td>\n",
       "      <td>3</td>\n",
       "      <td>7</td>\n",
       "      <td>1</td>\n",
       "    </tr>\n",
       "  </tbody>\n",
       "</table>\n",
       "</div>"
      ],
      "text/plain": [
       "   grade  home_ownership  verification_status  purpose  initial_list_status  \\\n",
       "0      2               2                    2        2                    0   \n",
       "1      0               0                    0        1                    0   \n",
       "2      1               2                    2        5                    0   \n",
       "3      3               2                    2        8                    0   \n",
       "4      3               2                    1        1                    0   \n",
       "\n",
       "   term  emp_length_int  mths_since_issue_d  int_rate  annual_inc  \\\n",
       "0     0               0                   5         1           7   \n",
       "1     0               3                   5         2           9   \n",
       "2     0               2                   6         3           6   \n",
       "3     0               0                   3         1           4   \n",
       "4     1               3                   6         3           7   \n",
       "\n",
       "   mths_since_last_delinq  \n",
       "0                       0  \n",
       "1                       4  \n",
       "2                       3  \n",
       "3                       4  \n",
       "4                       1  "
      ]
     },
     "execution_count": 4,
     "metadata": {},
     "output_type": "execute_result"
    }
   ],
   "source": [
    "df_xg = pd.read_csv(\"xg_data.csv\")\n",
    "df_xg=df_xg[:n]\n",
    "df_xg.head()"
   ]
  },
  {
   "cell_type": "markdown",
   "id": "ea27d179",
   "metadata": {
    "slideshow": {
     "slide_type": "slide"
    }
   },
   "source": [
    "### Loading pd demo data"
   ]
  },
  {
   "cell_type": "code",
   "execution_count": 5,
   "id": "66faff6c",
   "metadata": {
    "slideshow": {
     "slide_type": "fragment"
    }
   },
   "outputs": [],
   "source": [
    "df_bayes = pd.read_csv('bayes_demo.csv')\n",
    "df_bayes=df_bayes[:n]"
   ]
  },
  {
   "cell_type": "code",
   "execution_count": 6,
   "id": "fa2ebfe3",
   "metadata": {
    "slideshow": {
     "slide_type": "fragment"
    }
   },
   "outputs": [],
   "source": [
    "df_bayes.drop(['verification_status','initial_list_status','good_bad','mths_since_issue_d'],axis=1,inplace=True)\n",
    "df_bayes['emp_length_int']=df_bayes['emp_length_int'].astype(np.str)\n",
    "\n"
   ]
  },
  {
   "cell_type": "code",
   "execution_count": 7,
   "id": "3673a0fc",
   "metadata": {
    "slideshow": {
     "slide_type": "fragment"
    }
   },
   "outputs": [
    {
     "data": {
      "text/html": [
       "<div>\n",
       "<style scoped>\n",
       "    .dataframe tbody tr th:only-of-type {\n",
       "        vertical-align: middle;\n",
       "    }\n",
       "\n",
       "    .dataframe tbody tr th {\n",
       "        vertical-align: top;\n",
       "    }\n",
       "\n",
       "    .dataframe thead th {\n",
       "        text-align: right;\n",
       "    }\n",
       "</style>\n",
       "<table border=\"1\" class=\"dataframe\">\n",
       "  <thead>\n",
       "    <tr style=\"text-align: right;\">\n",
       "      <th></th>\n",
       "      <th>grade</th>\n",
       "      <th>home_ownership</th>\n",
       "      <th>purpose</th>\n",
       "      <th>term</th>\n",
       "      <th>emp_length_int</th>\n",
       "      <th>int_rate</th>\n",
       "      <th>annual_inc</th>\n",
       "      <th>mths_since_last_delinq</th>\n",
       "    </tr>\n",
       "  </thead>\n",
       "  <tbody>\n",
       "    <tr>\n",
       "      <th>0</th>\n",
       "      <td>B</td>\n",
       "      <td>RENT</td>\n",
       "      <td>credit_card</td>\n",
       "      <td>3 years</td>\n",
       "      <td>7</td>\n",
       "      <td>fair</td>\n",
       "      <td>30k</td>\n",
       "      <td>unknown</td>\n",
       "    </tr>\n",
       "    <tr>\n",
       "      <th>1</th>\n",
       "      <td>C</td>\n",
       "      <td>RENT</td>\n",
       "      <td>car</td>\n",
       "      <td>5 years</td>\n",
       "      <td>1</td>\n",
       "      <td>modrate</td>\n",
       "      <td>30k</td>\n",
       "      <td>unknown</td>\n",
       "    </tr>\n",
       "    <tr>\n",
       "      <th>2</th>\n",
       "      <td>C</td>\n",
       "      <td>RENT</td>\n",
       "      <td>small_business</td>\n",
       "      <td>3 years</td>\n",
       "      <td>7</td>\n",
       "      <td>high</td>\n",
       "      <td>20k</td>\n",
       "      <td>unknown</td>\n",
       "    </tr>\n",
       "    <tr>\n",
       "      <th>3</th>\n",
       "      <td>C</td>\n",
       "      <td>RENT</td>\n",
       "      <td>other</td>\n",
       "      <td>3 years</td>\n",
       "      <td>7</td>\n",
       "      <td>modrate</td>\n",
       "      <td>50k</td>\n",
       "      <td>less than 56</td>\n",
       "    </tr>\n",
       "    <tr>\n",
       "      <th>4</th>\n",
       "      <td>B</td>\n",
       "      <td>RENT</td>\n",
       "      <td>other</td>\n",
       "      <td>5 years</td>\n",
       "      <td>1</td>\n",
       "      <td>modrate</td>\n",
       "      <td>80k</td>\n",
       "      <td>less than 56</td>\n",
       "    </tr>\n",
       "  </tbody>\n",
       "</table>\n",
       "</div>"
      ],
      "text/plain": [
       "  grade home_ownership         purpose      term emp_length_int int_rate  \\\n",
       "0     B           RENT     credit_card   3 years              7     fair   \n",
       "1     C           RENT             car   5 years              1  modrate   \n",
       "2     C           RENT  small_business   3 years              7     high   \n",
       "3     C           RENT           other   3 years              7  modrate   \n",
       "4     B           RENT           other   5 years              1  modrate   \n",
       "\n",
       "  annual_inc mths_since_last_delinq  \n",
       "0        30k                unknown  \n",
       "1        30k                unknown  \n",
       "2        20k                unknown  \n",
       "3        50k           less than 56  \n",
       "4        80k           less than 56  "
      ]
     },
     "execution_count": 7,
     "metadata": {},
     "output_type": "execute_result"
    }
   ],
   "source": [
    "df_bayes.head()"
   ]
  },
  {
   "cell_type": "code",
   "execution_count": 8,
   "id": "3e2e7e17",
   "metadata": {
    "slideshow": {
     "slide_type": "fragment"
    }
   },
   "outputs": [],
   "source": [
    "w=[]\n",
    "for index,row in df_bayes.iterrows():\n",
    "    w.append(dict(zip(df_bayes.columns.values,row)))"
   ]
  },
  {
   "cell_type": "markdown",
   "id": "12b7d5ff",
   "metadata": {
    "slideshow": {
     "slide_type": "slide"
    }
   },
   "source": [
    "### Creating empty df"
   ]
  },
  {
   "cell_type": "code",
   "execution_count": 9,
   "id": "5d6e4166",
   "metadata": {
    "slideshow": {
     "slide_type": "fragment"
    }
   },
   "outputs": [],
   "source": [
    "df_new= pd.DataFrame()"
   ]
  },
  {
   "cell_type": "markdown",
   "id": "b4fae6b6",
   "metadata": {
    "slideshow": {
     "slide_type": "slide"
    }
   },
   "source": [
    "### Calling api for lgd"
   ]
  },
  {
   "cell_type": "code",
   "execution_count": 10,
   "id": "1db821dc",
   "metadata": {
    "slideshow": {
     "slide_type": "fragment"
    }
   },
   "outputs": [],
   "source": [
    "base_site=\" http://127.0.0.1:5000/predict_lgd\""
   ]
  },
  {
   "cell_type": "code",
   "execution_count": 11,
   "id": "c3191d40",
   "metadata": {
    "slideshow": {
     "slide_type": "fragment"
    }
   },
   "outputs": [
    {
     "data": {
      "text/plain": [
       "count    1000.000000\n",
       "mean        0.919414\n",
       "std         0.012218\n",
       "min         0.867052\n",
       "25%         0.911343\n",
       "50%         0.920904\n",
       "75%         0.928057\n",
       "max         0.949228\n",
       "Name: lgd, dtype: float64"
      ]
     },
     "execution_count": 11,
     "metadata": {},
     "output_type": "execute_result"
    }
   ],
   "source": [
    "r= requests.post(url=base_site,json=df.values.tolist())\n",
    "df_new['lgd']= np.ones(shape=(n,))-np.array(r.json())\n",
    "df_new['lgd'].describe()"
   ]
  },
  {
   "cell_type": "markdown",
   "id": "23e5efbe",
   "metadata": {
    "slideshow": {
     "slide_type": "slide"
    }
   },
   "source": [
    "### Calling api for ead"
   ]
  },
  {
   "cell_type": "code",
   "execution_count": 12,
   "id": "0fd52641",
   "metadata": {
    "slideshow": {
     "slide_type": "fragment"
    }
   },
   "outputs": [],
   "source": [
    "base_site=\" http://127.0.0.1:5000/predict_ead\""
   ]
  },
  {
   "cell_type": "code",
   "execution_count": 13,
   "id": "8d26c820",
   "metadata": {
    "slideshow": {
     "slide_type": "fragment"
    }
   },
   "outputs": [
    {
     "data": {
      "text/plain": [
       "count     1000.000000\n",
       "mean      7998.515782\n",
       "std       4920.988381\n",
       "min        661.621792\n",
       "25%       4262.971056\n",
       "50%       6733.176608\n",
       "75%      10557.890125\n",
       "max      28963.392621\n",
       "Name: ead, dtype: float64"
      ]
     },
     "execution_count": 13,
     "metadata": {},
     "output_type": "execute_result"
    }
   ],
   "source": [
    "r= requests.post(url=base_site,json=df.values.tolist())\n",
    "df_new['ead']= r.json()*df['funded_amnt']\n",
    "df_new['ead'].describe()"
   ]
  },
  {
   "cell_type": "markdown",
   "id": "05fb7973",
   "metadata": {
    "slideshow": {
     "slide_type": "slide"
    }
   },
   "source": [
    "### Calling api for pd_xg"
   ]
  },
  {
   "cell_type": "code",
   "execution_count": 84,
   "id": "02ceeb16",
   "metadata": {
    "slideshow": {
     "slide_type": "fragment"
    }
   },
   "outputs": [],
   "source": [
    "base_site= \"http://127.0.0.1:5000/predict_xg\""
   ]
  },
  {
   "cell_type": "code",
   "execution_count": 106,
   "id": "8d3a486b",
   "metadata": {
    "slideshow": {
     "slide_type": "fragment"
    }
   },
   "outputs": [
    {
     "data": {
      "text/plain": [
       "count    1000.000000\n",
       "mean        0.107299\n",
       "std         0.100135\n",
       "min         0.000125\n",
       "25%         0.037486\n",
       "50%         0.085225\n",
       "75%         0.147251\n",
       "max         0.942908\n",
       "Name: pd, dtype: float64"
      ]
     },
     "execution_count": 106,
     "metadata": {},
     "output_type": "execute_result"
    }
   ],
   "source": [
    "r= requests.post(url=base_site,json=df_xg.values.tolist())\n",
    "df_new['pd']= r.json()\n",
    "df_new['pd'].describe()"
   ]
  },
  {
   "cell_type": "markdown",
   "id": "da782d1d",
   "metadata": {
    "slideshow": {
     "slide_type": "slide"
    }
   },
   "source": [
    "### Evaluating expected loss"
   ]
  },
  {
   "cell_type": "code",
   "execution_count": 16,
   "id": "0cc0e89c",
   "metadata": {
    "slideshow": {
     "slide_type": "fragment"
    }
   },
   "outputs": [
    {
     "data": {
      "text/html": [
       "<div>\n",
       "<style scoped>\n",
       "    .dataframe tbody tr th:only-of-type {\n",
       "        vertical-align: middle;\n",
       "    }\n",
       "\n",
       "    .dataframe tbody tr th {\n",
       "        vertical-align: top;\n",
       "    }\n",
       "\n",
       "    .dataframe thead th {\n",
       "        text-align: right;\n",
       "    }\n",
       "</style>\n",
       "<table border=\"1\" class=\"dataframe\">\n",
       "  <thead>\n",
       "    <tr style=\"text-align: right;\">\n",
       "      <th></th>\n",
       "      <th>lgd</th>\n",
       "      <th>ead</th>\n",
       "      <th>pd</th>\n",
       "    </tr>\n",
       "  </thead>\n",
       "  <tbody>\n",
       "    <tr>\n",
       "      <th>0</th>\n",
       "      <td>0.913729</td>\n",
       "      <td>2949.608449</td>\n",
       "      <td>0.284819</td>\n",
       "    </tr>\n",
       "    <tr>\n",
       "      <th>1</th>\n",
       "      <td>0.915482</td>\n",
       "      <td>1944.433378</td>\n",
       "      <td>0.069817</td>\n",
       "    </tr>\n",
       "    <tr>\n",
       "      <th>2</th>\n",
       "      <td>0.919484</td>\n",
       "      <td>1579.934302</td>\n",
       "      <td>0.169555</td>\n",
       "    </tr>\n",
       "    <tr>\n",
       "      <th>3</th>\n",
       "      <td>0.904924</td>\n",
       "      <td>6606.559612</td>\n",
       "      <td>0.076054</td>\n",
       "    </tr>\n",
       "    <tr>\n",
       "      <th>4</th>\n",
       "      <td>0.911453</td>\n",
       "      <td>2124.631667</td>\n",
       "      <td>0.279079</td>\n",
       "    </tr>\n",
       "  </tbody>\n",
       "</table>\n",
       "</div>"
      ],
      "text/plain": [
       "        lgd          ead        pd\n",
       "0  0.913729  2949.608449  0.284819\n",
       "1  0.915482  1944.433378  0.069817\n",
       "2  0.919484  1579.934302  0.169555\n",
       "3  0.904924  6606.559612  0.076054\n",
       "4  0.911453  2124.631667  0.279079"
      ]
     },
     "execution_count": 16,
     "metadata": {},
     "output_type": "execute_result"
    }
   ],
   "source": [
    "df_new.head()"
   ]
  },
  {
   "cell_type": "code",
   "execution_count": 17,
   "id": "9ed16c8c",
   "metadata": {
    "slideshow": {
     "slide_type": "fragment"
    }
   },
   "outputs": [],
   "source": [
    "df_new['EL']= df_new['lgd']*df_new['ead']*df_new['pd']"
   ]
  },
  {
   "cell_type": "code",
   "execution_count": 18,
   "id": "acbfe866",
   "metadata": {
    "slideshow": {
     "slide_type": "fragment"
    }
   },
   "outputs": [
    {
     "data": {
      "text/html": [
       "<div>\n",
       "<style scoped>\n",
       "    .dataframe tbody tr th:only-of-type {\n",
       "        vertical-align: middle;\n",
       "    }\n",
       "\n",
       "    .dataframe tbody tr th {\n",
       "        vertical-align: top;\n",
       "    }\n",
       "\n",
       "    .dataframe thead th {\n",
       "        text-align: right;\n",
       "    }\n",
       "</style>\n",
       "<table border=\"1\" class=\"dataframe\">\n",
       "  <thead>\n",
       "    <tr style=\"text-align: right;\">\n",
       "      <th></th>\n",
       "      <th>lgd</th>\n",
       "      <th>ead</th>\n",
       "      <th>pd</th>\n",
       "      <th>EL</th>\n",
       "    </tr>\n",
       "  </thead>\n",
       "  <tbody>\n",
       "    <tr>\n",
       "      <th>0</th>\n",
       "      <td>0.913729</td>\n",
       "      <td>2949.608449</td>\n",
       "      <td>0.284819</td>\n",
       "      <td>767.626696</td>\n",
       "    </tr>\n",
       "    <tr>\n",
       "      <th>1</th>\n",
       "      <td>0.915482</td>\n",
       "      <td>1944.433378</td>\n",
       "      <td>0.069817</td>\n",
       "      <td>124.281297</td>\n",
       "    </tr>\n",
       "    <tr>\n",
       "      <th>2</th>\n",
       "      <td>0.919484</td>\n",
       "      <td>1579.934302</td>\n",
       "      <td>0.169555</td>\n",
       "      <td>246.316895</td>\n",
       "    </tr>\n",
       "    <tr>\n",
       "      <th>3</th>\n",
       "      <td>0.904924</td>\n",
       "      <td>6606.559612</td>\n",
       "      <td>0.076054</td>\n",
       "      <td>454.685233</td>\n",
       "    </tr>\n",
       "    <tr>\n",
       "      <th>4</th>\n",
       "      <td>0.911453</td>\n",
       "      <td>2124.631667</td>\n",
       "      <td>0.279079</td>\n",
       "      <td>540.437857</td>\n",
       "    </tr>\n",
       "  </tbody>\n",
       "</table>\n",
       "</div>"
      ],
      "text/plain": [
       "        lgd          ead        pd          EL\n",
       "0  0.913729  2949.608449  0.284819  767.626696\n",
       "1  0.915482  1944.433378  0.069817  124.281297\n",
       "2  0.919484  1579.934302  0.169555  246.316895\n",
       "3  0.904924  6606.559612  0.076054  454.685233\n",
       "4  0.911453  2124.631667  0.279079  540.437857"
      ]
     },
     "execution_count": 18,
     "metadata": {},
     "output_type": "execute_result"
    }
   ],
   "source": [
    "df_new.head()"
   ]
  },
  {
   "cell_type": "code",
   "execution_count": 19,
   "id": "b0f17a1a",
   "metadata": {
    "slideshow": {
     "slide_type": "fragment"
    }
   },
   "outputs": [
    {
     "data": {
      "text/plain": [
       "777638.2854405127"
      ]
     },
     "execution_count": 19,
     "metadata": {},
     "output_type": "execute_result"
    }
   ],
   "source": [
    "df_new['EL'].sum()"
   ]
  },
  {
   "cell_type": "markdown",
   "id": "1492f91d",
   "metadata": {
    "slideshow": {
     "slide_type": "slide"
    }
   },
   "source": [
    "### Loss percentage"
   ]
  },
  {
   "cell_type": "code",
   "execution_count": 20,
   "id": "47293150",
   "metadata": {
    "slideshow": {
     "slide_type": "fragment"
    }
   },
   "outputs": [],
   "source": [
    "df_new['funded_amount']= df['funded_amnt']"
   ]
  },
  {
   "cell_type": "code",
   "execution_count": 21,
   "id": "61cbcf9c",
   "metadata": {
    "slideshow": {
     "slide_type": "fragment"
    }
   },
   "outputs": [
    {
     "data": {
      "text/plain": [
       "6.374293300112403"
      ]
     },
     "execution_count": 21,
     "metadata": {},
     "output_type": "execute_result"
    }
   ],
   "source": [
    "df_new['EL'].sum()*100/df_new['funded_amount'].sum()"
   ]
  },
  {
   "cell_type": "markdown",
   "id": "da238856",
   "metadata": {
    "slideshow": {
     "slide_type": "slide"
    }
   },
   "source": [
    "### Changing cut-off point VS loss percentage "
   ]
  },
  {
   "cell_type": "code",
   "execution_count": 22,
   "id": "79a07f70",
   "metadata": {
    "slideshow": {
     "slide_type": "fragment"
    }
   },
   "outputs": [],
   "source": [
    "def get_loss_percent(data,cut_off):\n",
    "    df1=data.copy()\n",
    "    df1['pd']= np.where(df1['pd']>cut_off,0,df1['pd'])\n",
    "    df1['EL'] = df1['lgd']*df1['ead']*df1['pd']\n",
    "    return df1['EL'].sum()*100/df1['funded_amount'].sum()"
   ]
  },
  {
   "cell_type": "code",
   "execution_count": 23,
   "id": "db1aa4ed",
   "metadata": {
    "slideshow": {
     "slide_type": "fragment"
    }
   },
   "outputs": [
    {
     "data": {
      "text/plain": [
       "1.589997708367812"
      ]
     },
     "execution_count": 23,
     "metadata": {},
     "output_type": "execute_result"
    }
   ],
   "source": [
    "get_loss_percent(df_new,0.1)"
   ]
  },
  {
   "cell_type": "code",
   "execution_count": 24,
   "id": "2a16257d",
   "metadata": {
    "slideshow": {
     "slide_type": "fragment"
    }
   },
   "outputs": [
    {
     "data": {
      "text/plain": [
       "2.9414820160577637"
      ]
     },
     "execution_count": 24,
     "metadata": {},
     "output_type": "execute_result"
    }
   ],
   "source": [
    "get_loss_percent(df_new,0.15)"
   ]
  },
  {
   "cell_type": "code",
   "execution_count": 25,
   "id": "c4bd8552",
   "metadata": {
    "slideshow": {
     "slide_type": "fragment"
    }
   },
   "outputs": [
    {
     "data": {
      "text/plain": [
       "4.205003031893023"
      ]
     },
     "execution_count": 25,
     "metadata": {},
     "output_type": "execute_result"
    }
   ],
   "source": [
    "get_loss_percent(df_new,0.2)"
   ]
  },
  {
   "cell_type": "code",
   "execution_count": 26,
   "id": "e759338c",
   "metadata": {
    "slideshow": {
     "slide_type": "fragment"
    }
   },
   "outputs": [
    {
     "data": {
      "text/plain": [
       "5.538648645618552"
      ]
     },
     "execution_count": 26,
     "metadata": {},
     "output_type": "execute_result"
    }
   ],
   "source": [
    "get_loss_percent(df_new,0.3)"
   ]
  },
  {
   "cell_type": "markdown",
   "id": "649212ef",
   "metadata": {
    "slideshow": {
     "slide_type": "slide"
    }
   },
   "source": [
    "### Typically this value ranges from 2 to 10% so we are on safe side"
   ]
  },
  {
   "cell_type": "code",
   "execution_count": 27,
   "id": "f8bf5cab",
   "metadata": {
    "slideshow": {
     "slide_type": "fragment"
    }
   },
   "outputs": [],
   "source": [
    "import matplotlib.pyplot as plt"
   ]
  },
  {
   "cell_type": "code",
   "execution_count": 28,
   "id": "71d17b16",
   "metadata": {
    "slideshow": {
     "slide_type": "fragment"
    }
   },
   "outputs": [],
   "source": [
    "x= [0.05,0.1,0.15,0.2,0.25,0.3]\n",
    "y= [get_loss_percent(df_new,i) for i in x]"
   ]
  },
  {
   "cell_type": "code",
   "execution_count": 29,
   "id": "5df7d74b",
   "metadata": {
    "slideshow": {
     "slide_type": "fragment"
    }
   },
   "outputs": [
    {
     "data": {
      "image/png": "[encoded data removed]",
      "text/plain": [
       "<Figure size 432x288 with 1 Axes>"
      ]
     },
     "metadata": {
      "needs_background": "light"
     },
     "output_type": "display_data"
    }
   ],
   "source": [
    "plt.plot(x,y)\n",
    "plt.grid()\n",
    "plt.xlabel('cutoff point',fontsize=20)\n",
    "plt.ylabel('loss percentage',fontsize=20)\n",
    "plt.show()"
   ]
  },
  {
   "cell_type": "markdown",
   "id": "bb65e3bc",
   "metadata": {
    "slideshow": {
     "slide_type": "fragment"
    }
   },
   "source": [
    "### Congratulations! great work"
   ]
  },
  {
   "cell_type": "markdown",
   "id": "fa7db334",
   "metadata": {
    "slideshow": {
     "slide_type": "slide"
    }
   },
   "source": [
    "### Bayesian Network / Factor Graphs"
   ]
  },
  {
   "cell_type": "markdown",
   "id": "6a32c7a5",
   "metadata": {
    "slideshow": {
     "slide_type": "slide"
    }
   },
   "source": [
    "<h1 style=\"color:blue\"> What happens during training </h1>\n",
    "\n",
    "<img src=\"img2.jpg\" width=\"570\" height=\"400\">"
   ]
  },
  {
   "cell_type": "markdown",
   "id": "3926b3d5",
   "metadata": {
    "slideshow": {
     "slide_type": "slide"
    }
   },
   "source": [
    "<h1 style=\"color:blue\"> What happens during inference </h1>\n",
    "\n",
    "<img src=\"img.png\" width=\"570\" height=\"400\">"
   ]
  },
  {
   "cell_type": "markdown",
   "id": "78c44c88",
   "metadata": {
    "slideshow": {
     "slide_type": "slide"
    }
   },
   "source": [
    "### Building the graph"
   ]
  },
  {
   "cell_type": "code",
   "execution_count": 30,
   "id": "8f5bba94",
   "metadata": {
    "slideshow": {
     "slide_type": "fragment"
    }
   },
   "outputs": [],
   "source": [
    "import networkx as nx\n",
    "G = nx.DiGraph()"
   ]
  },
  {
   "cell_type": "code",
   "execution_count": 31,
   "id": "e1768182",
   "metadata": {
    "slideshow": {
     "slide_type": "fragment"
    }
   },
   "outputs": [],
   "source": [
    "A= {\n",
    "    'income':['home_ownership','term'],\n",
    "    'emp_length':['home_ownership','delinq'],\n",
    "    'purpose':['term','int_rate','delinq'],\n",
    "    'home_ownership':['grade'],\n",
    "    'term':['int_rate'],\n",
    "    'int_rate':['grade'],\n",
    "    'grade':['loan_status'],\n",
    "     'delinq':['loan_status'],\n",
    "\n",
    "    \n",
    "}\n",
    "G=nx.DiGraph(A)\n"
   ]
  },
  {
   "cell_type": "markdown",
   "id": "52d661b8",
   "metadata": {
    "slideshow": {
     "slide_type": "slide"
    }
   },
   "source": [
    "### Visualization"
   ]
  },
  {
   "cell_type": "code",
   "execution_count": 32,
   "id": "81aa2455",
   "metadata": {
    "slideshow": {
     "slide_type": "subslide"
    }
   },
   "outputs": [
    {
     "data": {
      "image/png": "[encoded data removed]",
      "text/plain": [
       "<Figure size 720x576 with 1 Axes>"
      ]
     },
     "metadata": {},
     "output_type": "display_data"
    }
   ],
   "source": [
    "plt.figure(figsize=(10,8))\n",
    "pos = nx.spring_layout(G,seed=6)\n",
    "nx.draw(G,node_size=7000,node_color='g',pos=pos,with_labels=True,edge_color='b')\n"
   ]
  },
  {
   "cell_type": "markdown",
   "id": "4f0d2d08",
   "metadata": {
    "slideshow": {
     "slide_type": "slide"
    }
   },
   "source": [
    "### Loading our data"
   ]
  },
  {
   "cell_type": "code",
   "execution_count": 33,
   "id": "8542b4b6",
   "metadata": {
    "slideshow": {
     "slide_type": "fragment"
    }
   },
   "outputs": [],
   "source": [
    "df= pd.read_csv('bayes_demo.csv')"
   ]
  },
  {
   "cell_type": "markdown",
   "id": "615c4d10",
   "metadata": {
    "slideshow": {
     "slide_type": "slide"
    }
   },
   "source": [
    "### Automating the pipeline"
   ]
  },
  {
   "cell_type": "markdown",
   "id": "334a2b43",
   "metadata": {
    "slideshow": {
     "slide_type": "slide"
    }
   },
   "source": [
    "#### Getting conditional probability distribution"
   ]
  },
  {
   "cell_type": "code",
   "execution_count": 34,
   "id": "33609fab",
   "metadata": {
    "slideshow": {
     "slide_type": "fragment"
    }
   },
   "outputs": [],
   "source": [
    "def get_conditional_prob_distribution(df,child,parents):\n",
    "    \n",
    "    parent_list = [df[i] for i in parents]\n",
    "    \n",
    "    df1= pd.crosstab(df[child[0]],parent_list).apply(lambda r: r/r.sum(), axis=0)\n",
    "    \n",
    "    c=pd.crosstab(df[child[0]],parent_list).apply(lambda r: r/r.sum(), axis=0).columns.values\n",
    "\n",
    "    r=pd.crosstab(df[child[0]],parent_list).apply(lambda r: r/r.sum(), axis=0).index.values\n",
    "    \n",
    "    A=[]\n",
    "    for i in range(df1.shape[0]):\n",
    "        for j in range(df1.shape[1]):\n",
    "            w=[]\n",
    "\n",
    "            \n",
    "            if type(c[j])==str:\n",
    "                w.append(c[j])\n",
    "            else:\n",
    "                w= [u  for u in (c[j])]\n",
    "            w.append(r[i])\n",
    "            w.append(df1.iloc[i,j])\n",
    "            A.append(w)\n",
    "            \n",
    "            \n",
    "        \n",
    "    return A\n"
   ]
  },
  {
   "cell_type": "code",
   "execution_count": 35,
   "id": "23bcc058",
   "metadata": {
    "slideshow": {
     "slide_type": "subslide"
    }
   },
   "outputs": [
    {
     "data": {
      "text/plain": [
       "[['+140k', 'car', ' 3 years', 0.7620967741935484],\n",
       " ['+140k', 'credit_card', ' 3 years', 0.7482856664994146],\n",
       " ['+140k', 'debt_consolidation', ' 3 years', 0.6661630382528673],\n",
       " ['+140k', 'educational', ' 3 years', 1.0],\n",
       " ['+140k', 'home_improvement', ' 3 years', 0.6591136287904032],\n",
       " ['+140k', 'house', ' 3 years', 0.6548223350253807],\n",
       " ['+140k', 'major_purchase', ' 3 years', 0.719640179910045],\n",
       " ['+140k', 'medical', ' 3 years', 0.7674418604651163],\n",
       " ['+140k', 'moving', ' 3 years', 0.7633136094674556],\n",
       " ['+140k', 'other', ' 3 years', 0.7122247532270312],\n",
       " ['+140k', 'renewable_energy', ' 3 years', 0.76],\n",
       " ['+140k', 'small_business', ' 3 years', 0.720677146311971],\n",
       " ['+140k', 'vacation', ' 3 years', 0.875],\n",
       " ['+140k', 'wedding', ' 3 years', 0.7387387387387387],\n",
       " ['100k', 'car', ' 3 years', 0.6616541353383458],\n",
       " ['100k', 'credit_card', ' 3 years', 0.7166936790923825],\n",
       " ['100k', 'debt_consolidation', ' 3 years', 0.631484794275492],\n",
       " ['100k', 'educational', ' 3 years', 1.0],\n",
       " ['100k', 'home_improvement', ' 3 years', 0.6671664167916042],\n",
       " ['100k', 'house', ' 3 years', 0.6308724832214765],\n",
       " ['100k', 'major_purchase', ' 3 years', 0.7467105263157895],\n",
       " ['100k', 'medical', ' 3 years', 0.7983193277310925],\n",
       " ['100k', 'moving', ' 3 years', 0.8346456692913385],\n",
       " ['100k', 'other', ' 3 years', 0.7309644670050761],\n",
       " ['100k', 'renewable_energy', ' 3 years', 0.8095238095238095],\n",
       " ['100k', 'small_business', ' 3 years', 0.690522243713733],\n",
       " ['100k', 'vacation', ' 3 years', 0.8671875],\n",
       " ['100k', 'wedding', ' 3 years', 0.839622641509434],\n",
       " ['120k', 'car', ' 3 years', 0.7557755775577558],\n",
       " ['120k', 'credit_card', ' 3 years', 0.7268153385912428],\n",
       " ['120k', 'debt_consolidation', ' 3 years', 0.6358915775262228],\n",
       " ['120k', 'educational', ' 3 years', 1.0],\n",
       " ['120k', 'home_improvement', ' 3 years', 0.6646366220056841],\n",
       " ['120k', 'house', ' 3 years', 0.6],\n",
       " ['120k', 'major_purchase', ' 3 years', 0.7567954220314735],\n",
       " ['120k', 'medical', ' 3 years', 0.7770700636942676],\n",
       " ['120k', 'moving', ' 3 years', 0.7341772151898734],\n",
       " ['120k', 'other', ' 3 years', 0.7421991084695394],\n",
       " ['120k', 'renewable_energy', ' 3 years', 0.7692307692307693],\n",
       " ['120k', 'small_business', ' 3 years', 0.6625874125874126],\n",
       " ['120k', 'vacation', ' 3 years', 0.8590604026845637],\n",
       " ['120k', 'wedding', ' 3 years', 0.8],\n",
       " ['140k', 'car', ' 3 years', 0.7692307692307693],\n",
       " ['140k', 'credit_card', ' 3 years', 0.7201453790238836],\n",
       " ['140k', 'debt_consolidation', ' 3 years', 0.6347914547304171],\n",
       " ['140k', 'educational', ' 3 years', 1.0],\n",
       " ['140k', 'home_improvement', ' 3 years', 0.6487232574189096],\n",
       " ['140k', 'house', ' 3 years', 0.6666666666666666],\n",
       " ['140k', 'major_purchase', ' 3 years', 0.7512820512820513],\n",
       " ['140k', 'medical', ' 3 years', 0.7080745341614907],\n",
       " ['140k', 'moving', ' 3 years', 0.7555555555555555],\n",
       " ['140k', 'other', ' 3 years', 0.7050473186119873],\n",
       " ['140k', 'renewable_energy', ' 3 years', 0.6153846153846154],\n",
       " ['140k', 'small_business', ' 3 years', 0.6616766467065869],\n",
       " ['140k', 'vacation', ' 3 years', 0.8852459016393442],\n",
       " ['140k', 'wedding', ' 3 years', 0.7857142857142857],\n",
       " ['20k', 'car', ' 3 years', 0.8865979381443299],\n",
       " ['20k', 'credit_card', ' 3 years', 0.9954545454545455],\n",
       " ['20k', 'debt_consolidation', ' 3 years', 0.974025974025974],\n",
       " ['20k', 'educational', ' 3 years', 0.9772727272727273],\n",
       " ['20k', 'home_improvement', ' 3 years', 0.9716981132075472],\n",
       " ['20k', 'house', ' 3 years', 1.0],\n",
       " ['20k', 'major_purchase', ' 3 years', 0.9205776173285198],\n",
       " ['20k', 'medical', ' 3 years', 0.9186991869918699],\n",
       " ['20k', 'moving', ' 3 years', 0.9319727891156463],\n",
       " ['20k', 'other', ' 3 years', 0.9310344827586207],\n",
       " ['20k', 'renewable_energy', ' 3 years', 1.0],\n",
       " ['20k', 'small_business', ' 3 years', 0.8990825688073395],\n",
       " ['20k', 'vacation', ' 3 years', 0.9852941176470589],\n",
       " ['20k', 'wedding', ' 3 years', 0.9459459459459459],\n",
       " ['30k', 'car', ' 3 years', 0.855917667238422],\n",
       " ['30k', 'credit_card', ' 3 years', 0.9350608804246019],\n",
       " ['30k', 'debt_consolidation', ' 3 years', 0.909262883235486],\n",
       " ['30k', 'educational', ' 3 years', 0.9393939393939394],\n",
       " ['30k', 'home_improvement', ' 3 years', 0.8902439024390244],\n",
       " ['30k', 'house', ' 3 years', 0.9166666666666666],\n",
       " ['30k', 'major_purchase', ' 3 years', 0.8977591036414566],\n",
       " ['30k', 'medical', ' 3 years', 0.9646739130434783],\n",
       " ['30k', 'moving', ' 3 years', 0.9281045751633987],\n",
       " ['30k', 'other', ' 3 years', 0.9106830122591943],\n",
       " ['30k', 'renewable_energy', ' 3 years', 0.95],\n",
       " ['30k', 'small_business', ' 3 years', 0.9077306733167082],\n",
       " ['30k', 'vacation', ' 3 years', 0.9506172839506173],\n",
       " ['30k', 'wedding', ' 3 years', 0.8846153846153846],\n",
       " ['40k', 'car', ' 3 years', 0.8090322580645162],\n",
       " ['40k', 'credit_card', ' 3 years', 0.8433029908972692],\n",
       " ['40k', 'debt_consolidation', ' 3 years', 0.8027496658392209],\n",
       " ['40k', 'educational', ' 3 years', 0.9824561403508771],\n",
       " ['40k', 'home_improvement', ' 3 years', 0.8246445497630331],\n",
       " ['40k', 'house', ' 3 years', 0.7894736842105263],\n",
       " ['40k', 'major_purchase', ' 3 years', 0.8106060606060606],\n",
       " ['40k', 'medical', ' 3 years', 0.875],\n",
       " ['40k', 'moving', ' 3 years', 0.9031531531531531],\n",
       " ['40k', 'other', ' 3 years', 0.8637032675890491],\n",
       " ['40k', 'renewable_energy', ' 3 years', 0.8333333333333334],\n",
       " ['40k', 'small_business', ' 3 years', 0.8194029850746268],\n",
       " ['40k', 'vacation', ' 3 years', 0.9242819843342036],\n",
       " ['40k', 'wedding', ' 3 years', 0.8990536277602523],\n",
       " ['50k', 'car', ' 3 years', 0.7798277982779828],\n",
       " ['50k', 'credit_card', ' 3 years', 0.7736738202891167],\n",
       " ['50k', 'debt_consolidation', ' 3 years', 0.7164573048536097],\n",
       " ['50k', 'educational', ' 3 years', 0.9183673469387755],\n",
       " ['50k', 'home_improvement', ' 3 years', 0.7302204928664072],\n",
       " ['50k', 'house', ' 3 years', 0.7384105960264901],\n",
       " ['50k', 'major_purchase', ' 3 years', 0.8069784706755754],\n",
       " ['50k', 'medical', ' 3 years', 0.8519040902679831],\n",
       " ['50k', 'moving', ' 3 years', 0.9238900634249472],\n",
       " ['50k', 'other', ' 3 years', 0.7974543442169342],\n",
       " ['50k', 'renewable_energy', ' 3 years', 0.8444444444444444],\n",
       " ['50k', 'small_business', ' 3 years', 0.7591687041564792],\n",
       " ['50k', 'vacation', ' 3 years', 0.8994565217391305],\n",
       " ['50k', 'wedding', ' 3 years', 0.8264462809917356],\n",
       " ['60k', 'car', ' 3 years', 0.7594594594594595],\n",
       " ['60k', 'credit_card', ' 3 years', 0.7396123767426046],\n",
       " ['60k', 'debt_consolidation', ' 3 years', 0.6724861714737258],\n",
       " ['60k', 'educational', ' 3 years', 0.9210526315789473],\n",
       " ['60k', 'home_improvement', ' 3 years', 0.7007727975270479],\n",
       " ['60k', 'house', ' 3 years', 0.6751824817518248],\n",
       " ['60k', 'major_purchase', ' 3 years', 0.7600931677018633],\n",
       " ['60k', 'medical', ' 3 years', 0.8038585209003215],\n",
       " ['60k', 'moving', ' 3 years', 0.8629441624365483],\n",
       " ['60k', 'other', ' 3 years', 0.7898457583547558],\n",
       " ['60k', 'renewable_energy', ' 3 years', 0.8611111111111112],\n",
       " ['60k', 'small_business', ' 3 years', 0.7293844367015099],\n",
       " ['60k', 'vacation', ' 3 years', 0.8985074626865671],\n",
       " ['60k', 'wedding', ' 3 years', 0.8347578347578347],\n",
       " ['70k', 'car', ' 3 years', 0.7602339181286549],\n",
       " ['70k', 'credit_card', ' 3 years', 0.7323058882653488],\n",
       " ['70k', 'debt_consolidation', ' 3 years', 0.6510445215908399],\n",
       " ['70k', 'educational', ' 3 years', 0.9655172413793104],\n",
       " ['70k', 'home_improvement', ' 3 years', 0.6985887096774194],\n",
       " ['70k', 'house', ' 3 years', 0.7126436781609196],\n",
       " ['70k', 'major_purchase', ' 3 years', 0.7535014005602241],\n",
       " ['70k', 'medical', ' 3 years', 0.8275109170305677],\n",
       " ['70k', 'moving', ' 3 years', 0.8413284132841329],\n",
       " ['70k', 'other', ' 3 years', 0.7612903225806451],\n",
       " ['70k', 'renewable_energy', ' 3 years', 0.7222222222222222],\n",
       " ['70k', 'small_business', ' 3 years', 0.7161016949152542],\n",
       " ['70k', 'vacation', ' 3 years', 0.9145907473309609],\n",
       " ['70k', 'wedding', ' 3 years', 0.7943262411347518],\n",
       " ['80k', 'car', ' 3 years', 0.7346938775510204],\n",
       " ['80k', 'credit_card', ' 3 years', 0.7165361848386481],\n",
       " ['80k', 'debt_consolidation', ' 3 years', 0.6428063184858404],\n",
       " ['80k', 'educational', ' 3 years', 0.8947368421052632],\n",
       " ['80k', 'home_improvement', ' 3 years', 0.6687116564417178],\n",
       " ['80k', 'house', ' 3 years', 0.6570048309178744],\n",
       " ['80k', 'major_purchase', ' 3 years', 0.7624434389140271],\n",
       " ['80k', 'medical', ' 3 years', 0.7871853546910755],\n",
       " ['80k', 'moving', ' 3 years', 0.8617886178861789],\n",
       " ['80k', 'other', ' 3 years', 0.740234375],\n",
       " ['80k', 'renewable_energy', ' 3 years', 0.8292682926829268],\n",
       " ['80k', 'small_business', ' 3 years', 0.6543026706231454],\n",
       " ['80k', 'vacation', ' 3 years', 0.8883720930232558],\n",
       " ['80k', 'wedding', ' 3 years', 0.8291666666666667],\n",
       " ['90k', 'car', ' 3 years', 0.7197640117994101],\n",
       " ['90k', 'credit_card', ' 3 years', 0.7151436031331593],\n",
       " ['90k', 'debt_consolidation', ' 3 years', 0.6344569643026229],\n",
       " ['90k', 'educational', ' 3 years', 1.0],\n",
       " ['90k', 'home_improvement', ' 3 years', 0.6650268336314848],\n",
       " ['90k', 'house', ' 3 years', 0.7061855670103093],\n",
       " ['90k', 'major_purchase', ' 3 years', 0.7496360989810772],\n",
       " ['90k', 'medical', ' 3 years', 0.7953020134228188],\n",
       " ['90k', 'moving', ' 3 years', 0.8373493975903614],\n",
       " ['90k', 'other', ' 3 years', 0.7510231923601637],\n",
       " ['90k', 'renewable_energy', ' 3 years', 0.9],\n",
       " ['90k', 'small_business', ' 3 years', 0.6889763779527559],\n",
       " ['90k', 'vacation', ' 3 years', 0.9276315789473685],\n",
       " ['90k', 'wedding', ' 3 years', 0.7922077922077922],\n",
       " ['+140k', 'car', ' 5 years', 0.23790322580645162],\n",
       " ['+140k', 'credit_card', ' 5 years', 0.25171433350058536],\n",
       " ['+140k', 'debt_consolidation', ' 5 years', 0.33383696174713273],\n",
       " ['+140k', 'educational', ' 5 years', 0.0],\n",
       " ['+140k', 'home_improvement', ' 5 years', 0.3408863712095968],\n",
       " ['+140k', 'house', ' 5 years', 0.34517766497461927],\n",
       " ['+140k', 'major_purchase', ' 5 years', 0.280359820089955],\n",
       " ['+140k', 'medical', ' 5 years', 0.23255813953488372],\n",
       " ['+140k', 'moving', ' 5 years', 0.23668639053254437],\n",
       " ['+140k', 'other', ' 5 years', 0.2877752467729689],\n",
       " ['+140k', 'renewable_energy', ' 5 years', 0.24],\n",
       " ['+140k', 'small_business', ' 5 years', 0.279322853688029],\n",
       " ['+140k', 'vacation', ' 5 years', 0.125],\n",
       " ['+140k', 'wedding', ' 5 years', 0.26126126126126126],\n",
       " ['100k', 'car', ' 5 years', 0.3383458646616541],\n",
       " ['100k', 'credit_card', ' 5 years', 0.2833063209076175],\n",
       " ['100k', 'debt_consolidation', ' 5 years', 0.3685152057245081],\n",
       " ['100k', 'educational', ' 5 years', 0.0],\n",
       " ['100k', 'home_improvement', ' 5 years', 0.3328335832083958],\n",
       " ['100k', 'house', ' 5 years', 0.3691275167785235],\n",
       " ['100k', 'major_purchase', ' 5 years', 0.2532894736842105],\n",
       " ['100k', 'medical', ' 5 years', 0.20168067226890757],\n",
       " ['100k', 'moving', ' 5 years', 0.16535433070866143],\n",
       " ['100k', 'other', ' 5 years', 0.26903553299492383],\n",
       " ['100k', 'renewable_energy', ' 5 years', 0.19047619047619047],\n",
       " ['100k', 'small_business', ' 5 years', 0.30947775628626695],\n",
       " ['100k', 'vacation', ' 5 years', 0.1328125],\n",
       " ['100k', 'wedding', ' 5 years', 0.16037735849056603],\n",
       " ['120k', 'car', ' 5 years', 0.24422442244224424],\n",
       " ['120k', 'credit_card', ' 5 years', 0.27318466140875713],\n",
       " ['120k', 'debt_consolidation', ' 5 years', 0.3641084224737771],\n",
       " ['120k', 'educational', ' 5 years', 0.0],\n",
       " ['120k', 'home_improvement', ' 5 years', 0.33536337799431587],\n",
       " ['120k', 'house', ' 5 years', 0.4],\n",
       " ['120k', 'major_purchase', ' 5 years', 0.24320457796852646],\n",
       " ['120k', 'medical', ' 5 years', 0.2229299363057325],\n",
       " ['120k', 'moving', ' 5 years', 0.26582278481012656],\n",
       " ['120k', 'other', ' 5 years', 0.2578008915304606],\n",
       " ['120k', 'renewable_energy', ' 5 years', 0.23076923076923078],\n",
       " ['120k', 'small_business', ' 5 years', 0.3374125874125874],\n",
       " ['120k', 'vacation', ' 5 years', 0.14093959731543623],\n",
       " ['120k', 'wedding', ' 5 years', 0.2],\n",
       " ['140k', 'car', ' 5 years', 0.23076923076923078],\n",
       " ['140k', 'credit_card', ' 5 years', 0.2798546209761163],\n",
       " ['140k', 'debt_consolidation', ' 5 years', 0.3652085452695829],\n",
       " ['140k', 'educational', ' 5 years', 0.0],\n",
       " ['140k', 'home_improvement', ' 5 years', 0.35127674258109043],\n",
       " ['140k', 'house', ' 5 years', 0.3333333333333333],\n",
       " ['140k', 'major_purchase', ' 5 years', 0.24871794871794872],\n",
       " ['140k', 'medical', ' 5 years', 0.2919254658385093],\n",
       " ['140k', 'moving', ' 5 years', 0.24444444444444444],\n",
       " ['140k', 'other', ' 5 years', 0.2949526813880126],\n",
       " ['140k', 'renewable_energy', ' 5 years', 0.38461538461538464],\n",
       " ['140k', 'small_business', ' 5 years', 0.3383233532934132],\n",
       " ['140k', 'vacation', ' 5 years', 0.11475409836065574],\n",
       " ['140k', 'wedding', ' 5 years', 0.21428571428571427],\n",
       " ['20k', 'car', ' 5 years', 0.1134020618556701],\n",
       " ['20k', 'credit_card', ' 5 years', 0.004545454545454545],\n",
       " ['20k', 'debt_consolidation', ' 5 years', 0.025974025974025976],\n",
       " ['20k', 'educational', ' 5 years', 0.022727272727272728],\n",
       " ['20k', 'home_improvement', ' 5 years', 0.02830188679245283],\n",
       " ['20k', 'house', ' 5 years', 0.0],\n",
       " ['20k', 'major_purchase', ' 5 years', 0.07942238267148015],\n",
       " ['20k', 'medical', ' 5 years', 0.08130081300813008],\n",
       " ['20k', 'moving', ' 5 years', 0.06802721088435375],\n",
       " ['20k', 'other', ' 5 years', 0.06896551724137931],\n",
       " ['20k', 'renewable_energy', ' 5 years', 0.0],\n",
       " ['20k', 'small_business', ' 5 years', 0.10091743119266056],\n",
       " ['20k', 'vacation', ' 5 years', 0.014705882352941176],\n",
       " ['20k', 'wedding', ' 5 years', 0.05405405405405406],\n",
       " ['30k', 'car', ' 5 years', 0.14408233276157806],\n",
       " ['30k', 'credit_card', ' 5 years', 0.06493911957539807],\n",
       " ['30k', 'debt_consolidation', ' 5 years', 0.09073711676451403],\n",
       " ['30k', 'educational', ' 5 years', 0.06060606060606061],\n",
       " ['30k', 'home_improvement', ' 5 years', 0.10975609756097561],\n",
       " ['30k', 'house', ' 5 years', 0.08333333333333333],\n",
       " ['30k', 'major_purchase', ' 5 years', 0.10224089635854341],\n",
       " ['30k', 'medical', ' 5 years', 0.035326086956521736],\n",
       " ['30k', 'moving', ' 5 years', 0.0718954248366013],\n",
       " ['30k', 'other', ' 5 years', 0.0893169877408056],\n",
       " ['30k', 'renewable_energy', ' 5 years', 0.05],\n",
       " ['30k', 'small_business', ' 5 years', 0.09226932668329177],\n",
       " ['30k', 'vacation', ' 5 years', 0.04938271604938271],\n",
       " ['30k', 'wedding', ' 5 years', 0.11538461538461539],\n",
       " ['40k', 'car', ' 5 years', 0.19096774193548388],\n",
       " ['40k', 'credit_card', ' 5 years', 0.15669700910273082],\n",
       " ['40k', 'debt_consolidation', ' 5 years', 0.19725033416077908],\n",
       " ['40k', 'educational', ' 5 years', 0.017543859649122806],\n",
       " ['40k', 'home_improvement', ' 5 years', 0.17535545023696683],\n",
       " ['40k', 'house', ' 5 years', 0.21052631578947367],\n",
       " ['40k', 'major_purchase', ' 5 years', 0.1893939393939394],\n",
       " ['40k', 'medical', ' 5 years', 0.125],\n",
       " ['40k', 'moving', ' 5 years', 0.09684684684684684],\n",
       " ['40k', 'other', ' 5 years', 0.13629673241095083],\n",
       " ['40k', 'renewable_energy', ' 5 years', 0.16666666666666666],\n",
       " ['40k', 'small_business', ' 5 years', 0.18059701492537314],\n",
       " ['40k', 'vacation', ' 5 years', 0.07571801566579635],\n",
       " ['40k', 'wedding', ' 5 years', 0.10094637223974763],\n",
       " ['50k', 'car', ' 5 years', 0.2201722017220172],\n",
       " ['50k', 'credit_card', ' 5 years', 0.22632617971088326],\n",
       " ['50k', 'debt_consolidation', ' 5 years', 0.28354269514639036],\n",
       " ['50k', 'educational', ' 5 years', 0.08163265306122448],\n",
       " ['50k', 'home_improvement', ' 5 years', 0.2697795071335927],\n",
       " ['50k', 'house', ' 5 years', 0.26158940397350994],\n",
       " ['50k', 'major_purchase', ' 5 years', 0.19302152932442465],\n",
       " ['50k', 'medical', ' 5 years', 0.14809590973201692],\n",
       " ['50k', 'moving', ' 5 years', 0.07610993657505286],\n",
       " ['50k', 'other', ' 5 years', 0.20254565578306585],\n",
       " ['50k', 'renewable_energy', ' 5 years', 0.15555555555555556],\n",
       " ['50k', 'small_business', ' 5 years', 0.24083129584352078],\n",
       " ['50k', 'vacation', ' 5 years', 0.10054347826086957],\n",
       " ['50k', 'wedding', ' 5 years', 0.17355371900826447],\n",
       " ['60k', 'car', ' 5 years', 0.24054054054054055],\n",
       " ['60k', 'credit_card', ' 5 years', 0.26038762325739545],\n",
       " ['60k', 'debt_consolidation', ' 5 years', 0.3275138285262742],\n",
       " ['60k', 'educational', ' 5 years', 0.07894736842105263],\n",
       " ['60k', 'home_improvement', ' 5 years', 0.2992272024729521],\n",
       " ['60k', 'house', ' 5 years', 0.3248175182481752],\n",
       " ['60k', 'major_purchase', ' 5 years', 0.23990683229813664],\n",
       " ['60k', 'medical', ' 5 years', 0.19614147909967847],\n",
       " ['60k', 'moving', ' 5 years', 0.13705583756345177],\n",
       " ['60k', 'other', ' 5 years', 0.2101542416452442],\n",
       " ['60k', 'renewable_energy', ' 5 years', 0.1388888888888889],\n",
       " ['60k', 'small_business', ' 5 years', 0.2706155632984901],\n",
       " ['60k', 'vacation', ' 5 years', 0.10149253731343283],\n",
       " ['60k', 'wedding', ' 5 years', 0.16524216524216523],\n",
       " ['70k', 'car', ' 5 years', 0.23976608187134502],\n",
       " ['70k', 'credit_card', ' 5 years', 0.26769411173465113],\n",
       " ['70k', 'debt_consolidation', ' 5 years', 0.34895547840916014],\n",
       " ['70k', 'educational', ' 5 years', 0.034482758620689655],\n",
       " ['70k', 'home_improvement', ' 5 years', 0.3014112903225806],\n",
       " ['70k', 'house', ' 5 years', 0.28735632183908044],\n",
       " ['70k', 'major_purchase', ' 5 years', 0.24649859943977592],\n",
       " ['70k', 'medical', ' 5 years', 0.17248908296943233],\n",
       " ['70k', 'moving', ' 5 years', 0.15867158671586715],\n",
       " ['70k', 'other', ' 5 years', 0.23870967741935484],\n",
       " ['70k', 'renewable_energy', ' 5 years', 0.2777777777777778],\n",
       " ['70k', 'small_business', ' 5 years', 0.2838983050847458],\n",
       " ['70k', 'vacation', ' 5 years', 0.08540925266903915],\n",
       " ['70k', 'wedding', ' 5 years', 0.20567375886524822],\n",
       " ['80k', 'car', ' 5 years', 0.2653061224489796],\n",
       " ['80k', 'credit_card', ' 5 years', 0.28346381516135194],\n",
       " ['80k', 'debt_consolidation', ' 5 years', 0.35719368151415964],\n",
       " ['80k', 'educational', ' 5 years', 0.10526315789473684],\n",
       " ['80k', 'home_improvement', ' 5 years', 0.3312883435582822],\n",
       " ['80k', 'house', ' 5 years', 0.34299516908212563],\n",
       " ['80k', 'major_purchase', ' 5 years', 0.23755656108597284],\n",
       " ['80k', 'medical', ' 5 years', 0.2128146453089245],\n",
       " ['80k', 'moving', ' 5 years', 0.13821138211382114],\n",
       " ['80k', 'other', ' 5 years', 0.259765625],\n",
       " ['80k', 'renewable_energy', ' 5 years', 0.17073170731707318],\n",
       " ['80k', 'small_business', ' 5 years', 0.3456973293768546],\n",
       " ['80k', 'vacation', ' 5 years', 0.11162790697674418],\n",
       " ['80k', 'wedding', ' 5 years', 0.17083333333333334],\n",
       " ['90k', 'car', ' 5 years', 0.28023598820059],\n",
       " ['90k', 'credit_card', ' 5 years', 0.2848563968668407],\n",
       " ['90k', 'debt_consolidation', ' 5 years', 0.3655430356973771],\n",
       " ['90k', 'educational', ' 5 years', 0.0],\n",
       " ['90k', 'home_improvement', ' 5 years', 0.3349731663685152],\n",
       " ['90k', 'house', ' 5 years', 0.29381443298969073],\n",
       " ['90k', 'major_purchase', ' 5 years', 0.25036390101892286],\n",
       " ['90k', 'medical', ' 5 years', 0.20469798657718122],\n",
       " ['90k', 'moving', ' 5 years', 0.16265060240963855],\n",
       " ['90k', 'other', ' 5 years', 0.2489768076398363],\n",
       " ['90k', 'renewable_energy', ' 5 years', 0.1],\n",
       " ['90k', 'small_business', ' 5 years', 0.3110236220472441],\n",
       " ['90k', 'vacation', ' 5 years', 0.07236842105263158],\n",
       " ['90k', 'wedding', ' 5 years', 0.2077922077922078]]"
      ]
     },
     "execution_count": 35,
     "metadata": {},
     "output_type": "execute_result"
    }
   ],
   "source": [
    "get_conditional_prob_distribution(df,['term'],['annual_inc','purpose'])"
   ]
  },
  {
   "cell_type": "markdown",
   "id": "44182a13",
   "metadata": {
    "slideshow": {
     "slide_type": "slide"
    }
   },
   "source": [
    "#### Getting marginal probability distribution"
   ]
  },
  {
   "cell_type": "code",
   "execution_count": 36,
   "id": "5d161ca4",
   "metadata": {
    "slideshow": {
     "slide_type": "fragment"
    }
   },
   "outputs": [],
   "source": [
    "def get_marginal_prob_distribution(df,variable):\n",
    "    \n",
    "    df1= df[variable].value_counts(normalize=True)\n",
    "    \n",
    "    d=dict(zip(df1.index,df1.values))\n",
    "\n",
    "\n",
    "    return d"
   ]
  },
  {
   "cell_type": "code",
   "execution_count": 37,
   "id": "17ce357d",
   "metadata": {
    "slideshow": {
     "slide_type": "subslide"
    }
   },
   "outputs": [
    {
     "data": {
      "text/plain": [
       "{'50k': 0.1472067494614335,\n",
       " '60k': 0.14266004651841424,\n",
       " '70k': 0.11617373168659291,\n",
       " '40k': 0.11570168135744509,\n",
       " '80k': 0.1005338460085999,\n",
       " '90k': 0.07513968398376147,\n",
       " '120k': 0.0708161321054303,\n",
       " '100k': 0.06071210937835263,\n",
       " '30k': 0.06008986121720323,\n",
       " '+140k': 0.059055641859706645,\n",
       " '140k': 0.03671478719112889,\n",
       " '20k': 0.015195729231931202}"
      ]
     },
     "execution_count": 37,
     "metadata": {},
     "output_type": "execute_result"
    }
   ],
   "source": [
    "get_marginal_prob_distribution(df,'annual_inc')"
   ]
  },
  {
   "cell_type": "markdown",
   "id": "ff6fc4a0",
   "metadata": {
    "slideshow": {
     "slide_type": "slide"
    }
   },
   "source": [
    "### Setting nodes and corresponding cpds"
   ]
  },
  {
   "cell_type": "code",
   "execution_count": 38,
   "id": "75323baf",
   "metadata": {
    "slideshow": {
     "slide_type": "subslide"
    }
   },
   "outputs": [],
   "source": [
    "annual_inc = DiscreteDistribution(get_marginal_prob_distribution(df,'annual_inc'))\n",
    "\n",
    "emp_length_int = DiscreteDistribution(get_marginal_prob_distribution(df,'emp_length_int'))\n",
    "\n",
    "purpose = DiscreteDistribution(get_marginal_prob_distribution(df,'purpose'))\n"
   ]
  },
  {
   "cell_type": "code",
   "execution_count": 39,
   "id": "ce18c30d",
   "metadata": {
    "slideshow": {
     "slide_type": "subslide"
    }
   },
   "outputs": [],
   "source": [
    "home_ownership= ConditionalProbabilityTable(\n",
    "    get_conditional_prob_distribution(df,['home_ownership'],['annual_inc','emp_length_int']), \n",
    "    [annual_inc, emp_length_int]\n",
    "\n",
    ") "
   ]
  },
  {
   "cell_type": "code",
   "execution_count": 40,
   "id": "c5375228",
   "metadata": {
    "slideshow": {
     "slide_type": "subslide"
    }
   },
   "outputs": [],
   "source": [
    "term= ConditionalProbabilityTable(\n",
    "    get_conditional_prob_distribution(df,['term'],['annual_inc','purpose']), \n",
    "    [annual_inc, purpose]\n",
    "\n",
    ") "
   ]
  },
  {
   "cell_type": "code",
   "execution_count": 41,
   "id": "5f4614bd",
   "metadata": {
    "slideshow": {
     "slide_type": "subslide"
    }
   },
   "outputs": [],
   "source": [
    "int_rate= ConditionalProbabilityTable(\n",
    "    get_conditional_prob_distribution(df,['int_rate'],['term','purpose']), \n",
    "    [term,purpose]\n",
    "\n",
    ") "
   ]
  },
  {
   "cell_type": "code",
   "execution_count": 42,
   "id": "ca6e8901",
   "metadata": {
    "slideshow": {
     "slide_type": "subslide"
    }
   },
   "outputs": [],
   "source": [
    "grade= ConditionalProbabilityTable(\n",
    "    get_conditional_prob_distribution(df,['grade'],['home_ownership','emp_length_int','int_rate']), \n",
    "    [home_ownership,emp_length_int,int_rate]\n",
    "\n",
    ") "
   ]
  },
  {
   "cell_type": "code",
   "execution_count": 43,
   "id": "71cc72a1",
   "metadata": {
    "slideshow": {
     "slide_type": "subslide"
    }
   },
   "outputs": [],
   "source": [
    "mths_since_last_delinq= ConditionalProbabilityTable(\n",
    "    get_conditional_prob_distribution(df,['mths_since_last_delinq'],['purpose','emp_length_int']), \n",
    "    [purpose,emp_length_int]\n",
    "\n",
    ") "
   ]
  },
  {
   "cell_type": "code",
   "execution_count": 44,
   "id": "b95a1975",
   "metadata": {
    "slideshow": {
     "slide_type": "subslide"
    }
   },
   "outputs": [],
   "source": [
    "creditworthiness= ConditionalProbabilityTable(\n",
    "    get_conditional_prob_distribution(df,['good_bad'],['grade','mths_since_last_delinq']), \n",
    "    [grade,mths_since_last_delinq]\n",
    "\n",
    ") "
   ]
  },
  {
   "cell_type": "markdown",
   "id": "cad2ac96",
   "metadata": {
    "slideshow": {
     "slide_type": "slide"
    }
   },
   "source": [
    "### Setting Nodes"
   ]
  },
  {
   "cell_type": "code",
   "execution_count": 45,
   "id": "2a60af67",
   "metadata": {
    "slideshow": {
     "slide_type": "fragment"
    }
   },
   "outputs": [],
   "source": [
    "s1 = Node(annual_inc, name=\"annual_inc\")\n",
    "s2 = Node(emp_length_int, name=\"emp_length_int\")\n",
    "s3 = Node(purpose, name=\"purpose\")\n",
    "s4 = Node(home_ownership, name=\"home_ownership\")\n",
    "s5 = Node(term, name=\"term\")\n",
    "s6 = Node(grade, name=\"grade\")\n",
    "s7 = Node(int_rate, name=\"int_rate\")\n",
    "s8 = Node(mths_since_last_delinq, name=\"mths_since_last_delinq\")\n",
    "s9 = Node(creditworthiness, name=\"creditworthiness\")"
   ]
  },
  {
   "cell_type": "markdown",
   "id": "de914c6e",
   "metadata": {
    "slideshow": {
     "slide_type": "slide"
    }
   },
   "source": [
    "### Constructing connections"
   ]
  },
  {
   "cell_type": "code",
   "execution_count": 46,
   "id": "228d0868",
   "metadata": {
    "slideshow": {
     "slide_type": "fragment"
    }
   },
   "outputs": [],
   "source": [
    "model = BayesianNetwork(\"Credit Worthiness\")\n",
    "\n",
    "model.add_nodes(s1, s2, s3, s4, s5, s6, s7, s8,s9)\n",
    "model.add_edge(s1, s4)\n",
    "model.add_edge(s1, s5)\n",
    "model.add_edge(s2, s4)\n",
    "model.add_edge(s2, s6)\n",
    "model.add_edge(s2, s8)\n",
    "model.add_edge(s3, s5)\n",
    "model.add_edge(s3, s7)\n",
    "model.add_edge(s3, s8)\n",
    "model.add_edge(s4, s6)\n",
    "model.add_edge(s5, s7)\n",
    "model.add_edge(s6, s9)\n",
    "model.add_edge(s7, s6)\n",
    "model.add_edge(s8, s9)\n",
    "\n",
    "model.bake()"
   ]
  },
  {
   "cell_type": "markdown",
   "id": "4c38aa72",
   "metadata": {
    "slideshow": {
     "slide_type": "slide"
    }
   },
   "source": [
    "## Now let's get some insights "
   ]
  },
  {
   "cell_type": "markdown",
   "id": "05a76dee",
   "metadata": {
    "slideshow": {
     "slide_type": "slide"
    }
   },
   "source": [
    "### Now we will try to answer some arbitrary questions that are crucial for business decisions"
   ]
  },
  {
   "cell_type": "markdown",
   "id": "0ceb2dd7",
   "metadata": {
    "slideshow": {
     "slide_type": "fragment"
    }
   },
   "source": [
    "['annual_inc',\n",
    " 'emp_length_int',\n",
    " 'purpose',\n",
    " 'home_ownership',\n",
    " 'term',\n",
    " 'grade',\n",
    " 'int_rate',\n",
    " 'mths_since_last_delinq',\n",
    " 'creditworthiness']"
   ]
  },
  {
   "cell_type": "code",
   "execution_count": 77,
   "id": "dd01f562",
   "metadata": {
    "slideshow": {
     "slide_type": "fragment"
    }
   },
   "outputs": [],
   "source": [
    "base_site=\"http://127.0.0.1:5000/make_inference\""
   ]
  },
  {
   "cell_type": "markdown",
   "id": "62f827e3",
   "metadata": {
    "slideshow": {
     "slide_type": "slide"
    }
   },
   "source": [
    "### What is the percentage of those who got accepted for a loan when their purpose was housing?"
   ]
  },
  {
   "cell_type": "code",
   "execution_count": 48,
   "id": "29ff7991",
   "metadata": {
    "slideshow": {
     "slide_type": "fragment"
    }
   },
   "outputs": [
    {
     "data": {
      "text/plain": [
       "0.004862118390222552"
      ]
     },
     "execution_count": 48,
     "metadata": {},
     "output_type": "execute_result"
    }
   ],
   "source": [
    "r= requests.post(url=base_site,json=[[None,None,'house',None,None,None,None,None,'good']])\n",
    "r.json()"
   ]
  },
  {
   "cell_type": "markdown",
   "id": "bd6b43ee",
   "metadata": {
    "slideshow": {
     "slide_type": "slide"
    }
   },
   "source": [
    "### What is the percentage of those who got accepted for a loan when their purpose was credit card (shopping)?"
   ]
  },
  {
   "cell_type": "code",
   "execution_count": 49,
   "id": "65a4b771",
   "metadata": {
    "slideshow": {
     "slide_type": "fragment"
    }
   },
   "outputs": [
    {
     "data": {
      "text/plain": [
       "0.22333559345309104"
      ]
     },
     "execution_count": 49,
     "metadata": {},
     "output_type": "execute_result"
    }
   ],
   "source": [
    "r= requests.post(url=base_site,json=[[None,None,'credit_card',None,None,None,None,None,'good']])\n",
    "r.json()"
   ]
  },
  {
   "cell_type": "markdown",
   "id": "1448a6a2",
   "metadata": {
    "slideshow": {
     "slide_type": "slide"
    }
   },
   "source": [
    "### What is the percentage of those who were accepted for a loan when their income was 30k?"
   ]
  },
  {
   "cell_type": "code",
   "execution_count": 50,
   "id": "dd43cca2",
   "metadata": {
    "slideshow": {
     "slide_type": "fragment"
    }
   },
   "outputs": [
    {
     "data": {
      "text/plain": [
       "0.060089861217203215"
      ]
     },
     "execution_count": 50,
     "metadata": {},
     "output_type": "execute_result"
    }
   ],
   "source": [
    "r= requests.post(url=base_site,json=[['30k',None,None,None,None,None,None,None,'good']])\n",
    "r.json()"
   ]
  },
  {
   "cell_type": "markdown",
   "id": "10e0baef",
   "metadata": {
    "slideshow": {
     "slide_type": "slide"
    }
   },
   "source": [
    "### What is the percentage of those who were accepted for a loan when their income was 80k?"
   ]
  },
  {
   "cell_type": "code",
   "execution_count": 51,
   "id": "1e5c3a22",
   "metadata": {
    "slideshow": {
     "slide_type": "fragment"
    }
   },
   "outputs": [
    {
     "data": {
      "text/plain": [
       "0.10053384600859987"
      ]
     },
     "execution_count": 51,
     "metadata": {},
     "output_type": "execute_result"
    }
   ],
   "source": [
    "r= requests.post(url=base_site,json=[['80k',None,None,None,None,None,None,None,'good']])\n",
    "r.json()"
   ]
  },
  {
   "cell_type": "markdown",
   "id": "58a0723b",
   "metadata": {
    "slideshow": {
     "slide_type": "slide"
    }
   },
   "source": [
    "### What is the percentage of those who own a house and have an income of 140k?"
   ]
  },
  {
   "cell_type": "code",
   "execution_count": 78,
   "id": "a2afb6d2",
   "metadata": {
    "slideshow": {
     "slide_type": "fragment"
    }
   },
   "outputs": [
    {
     "data": {
      "text/plain": [
       "0.05905564185970664"
      ]
     },
     "execution_count": 78,
     "metadata": {},
     "output_type": "execute_result"
    }
   ],
   "source": [
    "r= requests.post(url=base_site,json=[['+140k',None,None,'OWN',None,None,None,None,None]])\n",
    "r.json()"
   ]
  },
  {
   "cell_type": "markdown",
   "id": "73850b11",
   "metadata": {
    "slideshow": {
     "slide_type": "slide"
    }
   },
   "source": [
    "### Calling api for pd_bayes"
   ]
  },
  {
   "cell_type": "code",
   "execution_count": 107,
   "id": "66c940aa",
   "metadata": {
    "slideshow": {
     "slide_type": "fragment"
    }
   },
   "outputs": [],
   "source": [
    "base_site=\"http://127.0.0.1:5000/predict_pd\""
   ]
  },
  {
   "cell_type": "code",
   "execution_count": 108,
   "id": "19c13481",
   "metadata": {
    "slideshow": {
     "slide_type": "fragment"
    }
   },
   "outputs": [
    {
     "data": {
      "text/plain": [
       "count    1000.000000\n",
       "mean        0.104592\n",
       "std         0.052536\n",
       "min         0.033514\n",
       "25%         0.069963\n",
       "50%         0.084857\n",
       "75%         0.124382\n",
       "max         0.290690\n",
       "Name: pd, dtype: float64"
      ]
     },
     "execution_count": 108,
     "metadata": {},
     "output_type": "execute_result"
    }
   ],
   "source": [
    "r= requests.post(url=base_site,json=w)\n",
    "df_new['pd']= [i[\"bad\"] for i in r.json()]\n",
    "df_new['pd'].describe()"
   ]
  }
 ],
 "metadata": {
  "celltoolbar": "Slideshow",
  "kernelspec": {
   "display_name": "Python 3",
   "language": "python",
   "name": "python3"
  },
  "language_info": {
   "codemirror_mode": {
    "name": "ipython",
    "version": 3
   },
   "file_extension": ".py",
   "mimetype": "text/x-python",
   "name": "python",
   "nbconvert_exporter": "python",
   "pygments_lexer": "ipython3",
   "version": "3.9.2"
  }
 },
 "nbformat": 4,
 "nbformat_minor": 5
}
